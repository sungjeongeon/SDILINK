{
 "cells": [
  {
   "cell_type": "markdown",
   "id": "bf92ab23",
   "metadata": {
    "papermill": {
     "duration": 0.008535,
     "end_time": "2022-10-29T21:00:15.786407",
     "exception": false,
     "start_time": "2022-10-29T21:00:15.777872",
     "status": "completed"
    },
    "tags": []
   },
   "source": [
    "# MATLAB 파일을 머신 러닝으로 변환하기 CSV 파일 읽기\n",
    "이 데이터 집합의 새 버전이 게시되었습니다. 이 데이터 세트는 원본 원시 데이터 세트를 탐색하여 훨씬 더 나은 형식의 머신 러닝 지원 데이터 세트로 변환합니다."
   ]
  },
  {
   "cell_type": "code",
   "execution_count": 1,
   "id": "76c87fed",
   "metadata": {
    "papermill": {
     "duration": 0.151647,
     "end_time": "2022-10-29T21:00:15.946639",
     "exception": false,
     "start_time": "2022-10-29T21:00:15.794992",
     "status": "completed"
    },
    "tags": []
   },
   "outputs": [],
   "source": [
    "# Some boring imports\n",
    "import numpy as np\n",
    "import pandas as pd\n",
    "import os\n",
    "import scipy.io"
   ]
  },
  {
   "cell_type": "code",
   "execution_count": 2,
   "id": "204f754f",
   "metadata": {
    "_cell_guid": "b1076dfc-b9ad-4769-8c92-a6c4dae69d19",
    "_uuid": "8f2839f25d086af736a60e9eeb907d3b93b6e0e5",
    "papermill": {
     "duration": 0.018099,
     "end_time": "2022-10-29T21:00:15.971441",
     "exception": false,
     "start_time": "2022-10-29T21:00:15.953342",
     "status": "completed"
    },
    "tags": []
   },
   "outputs": [],
   "source": [
    "# Helper functions\n",
    "def load_filelist():\n",
    "    \n",
    "    FILELIST = []\n",
    "    for dirname, _, filenames in os.walk('/kaggle/input'):\n",
    "        for filename in filenames:\n",
    "\n",
    "            #filepath = filename\n",
    "            FILELIST.append(os.path.join(dirname, filename))\n",
    "    return FILELIST\n",
    "            \n",
    "            \n",
    "def filter_matfiles_list(filelist):\n",
    "    filelist = [filepath for filepath in filelist if filepath.endswith('.mat')]\n",
    "    filelist = [filepath for filepath in filelist if \"BatteryAgingARC_25_26_27_28_P1\" not in filepath] # removing duplicates\n",
    "    return filelist\n",
    "\n",
    "\n",
    "def loadmat(filepath):\n",
    "    return scipy.io.loadmat(filepath, simplify_cells=True)"
   ]
  },
  {
   "cell_type": "code",
   "execution_count": 3,
   "id": "60014351",
   "metadata": {
    "papermill": {
     "duration": 0.049481,
     "end_time": "2022-10-29T21:00:16.027529",
     "exception": false,
     "start_time": "2022-10-29T21:00:15.978048",
     "status": "completed"
    },
    "tags": []
   },
   "outputs": [],
   "source": [
    "FILELIST = filter_matfiles_list(load_filelist())"
   ]
  },
  {
   "cell_type": "markdown",
   "id": "6946a98d",
   "metadata": {
    "papermill": {
     "duration": 0.007815,
     "end_time": "2022-10-29T21:00:16.042445",
     "exception": false,
     "start_time": "2022-10-29T21:00:16.034630",
     "status": "completed"
    },
    "tags": []
   },
   "source": [
    "## 일반 데이터 세트 정보\n",
    "충전 및 방전 주기가 반복되면 배터리 노화가 가속화되며, 임피던스 측정은 노화가 진행됨에 따라 변화하는 배터리 내부 매개 변수에 대한 통찰력을 제공합니다.\n",
    "\n",
    "- 충전 프로필:\n",
    "    - 모든 배터리 테스트의 충전 프로필은 동일한 것으로 보입니다.\n",
    "    - 충전은 배터리 전압이 4.2V에 도달할 때까지 1.5A의 정전류(CC) 모드에서 수행한 다음 충전 전류가 20mA로 떨어질 때까지 정전압(CV) 모드에서 계속 진행했습니다. \n",
    "\n",
    "- 방전:\n",
    "    - 방전 프로필은 배터리마다 달랐습니다.\n",
    "    - 방전은 배터리 전압이 2.7V, 2.5V, 2.2V, 2.5V 등의 값으로 떨어질 때까지 1~4A의 정전류(CC) 수준에서 수행되었습니다.\n",
    "\n",
    "- 임피던스:\n",
    "    - 임피던스 측정은 0.1Hz ~ 5kHz의 전기 화학 임피던스 분광법(EIS) 주파수 스윕을 통해 수행되었습니다.\n",
    "\n",
    "배터리가 지정된 수명 종료(EOL) 기준(예: 정격 용량이 30% 감소(2Ahr에서 1.4Ahr로))에 도달하면 실험을 중단했습니다. 정격 용량 20% 감소와 같은 다른 중단 기준도 사용되었습니다. 배터리 49,50,51,52의 경우 배터리 EOL로 인해 실험이 중지된 것이 아니라 소프트웨어가 충돌했기 때문에 실험이 중지되었습니다.\n",
    "\n",
    "# 작업\n",
    "\n",
    "이 데이터 세트는 다음 두 가지를 예측하는 데 사용할 수 있습니다:\n",
    "- 남은 충전량(주어진 방전 주기에 대한) 및,\n",
    "- 남은 유효 수명(RUL).\n"
   ]
  },
  {
   "cell_type": "markdown",
   "id": "cdd9d34a",
   "metadata": {
    "papermill": {
     "duration": 0.007028,
     "end_time": "2022-10-29T21:00:16.056582",
     "exception": false,
     "start_time": "2022-10-29T21:00:16.049554",
     "status": "completed"
    },
    "tags": []
   },
   "source": [
    "## .mat 파일의 구조\n",
    "- **사전** (로드된 mat 파일)\n",
    "    - **사전** (예: B0005)\n",
    "        - **목록(사이클)** -> 목록의 요소당 하나의 테스트\n",
    "            - 목록의 요소 = 딕셔너리 = 해당 배터리의 한 테스트에 대한 모든 데이터\n",
    "                - **유형**: 작동 유형, 충전, 방전 또는 임피던스가 될 수 있습니다.\n",
    "                - **주변 온도**: 주변 온도(섭씨)\n",
    "                - **시간**: 사이클 시작 날짜 및 시간, MATLAB 날짜 벡터 형식\n",
    "                - **데이터(딕셔너리)**: 측정값을 포함하는 데이터 구조\n",
    "                    - 키가 측정 변수인 데이터 필드, 실제 레코드 값(아래 참조)\n",
    "                    \n",
    "                    \n",
    "* 충전의 경우 필드는 다음과 같습니다:\n",
    "    * 전압_측정: \t배터리 단자 전압(볼트)\n",
    "    * 전류_측정:\t배터리 출력 전류(암페어)\n",
    "    * 온도_측정: \t배터리 온도(섭씨)\n",
    "    * Current_charge:\t\t충전기에서 측정된 전류(암페어)\n",
    "    * 전압_충전:\t\t충전기에서 측정된 전압(볼트)\n",
    "    * 시간: 사이클의 시간 벡터(초)\n",
    "* 방전의 경우 필드는 다음과 같습니다:\n",
    "    * 전압_측정: \t배터리 단자 전압(볼트)\n",
    "    * 전류_측정:\t배터리 출력 전류(암페어)\n",
    "    * 온도_측정: \t배터리 온도(섭씨)\n",
    "    * Current_load:\t\t부하에서 측정된 전류(암페어)\n",
    "    * 전압_부하:\t\t부하에서 측정된 전압(볼트)\n",
    "    * 시간: 사이클의 시간 벡터(초)\n",
    "    * 용량:\t\t2.7V까지 방전 시 배터리 용량(Ahr) \n",
    "* 임피던스의 경우 필드입니다:\n",
    "    * Sense_current:\t\t감지 분기의 전류(암페어)\n",
    "    * 배터리_전류:\t배터리 분기의 전류(암페어)\n",
    "    * 전류_비율:\t\t위 전류의 비율 \n",
    "    * 배터리_임피던스:\t원시 데이터에서 계산된 배터리 임피던스(옴)\n",
    "    * 정류된_임피던스:\t보정 및 평활화된 배터리 임피던스(옴) \n",
    "    * Re:\t\t\t예상 전해질 저항(옴)\n",
    "    * Rct:\t\t\t예상 전하 전달 저항(옴)"
   ]
  },
  {
   "cell_type": "markdown",
   "id": "acb166ba",
   "metadata": {
    "papermill": {
     "duration": 0.006828,
     "end_time": "2022-10-29T21:00:16.071664",
     "exception": false,
     "start_time": "2022-10-29T21:00:16.064836",
     "status": "completed"
    },
    "tags": []
   },
   "source": [
    "### README 파일의 차이점\n",
    "- 방전 CC 레벨\n",
    "- 방전 실행 정지 전압\n",
    "- EOL 기준(30% -> 1.4Ah, 20% -> 1.6Ah, 소프트웨어 충돌)"
   ]
  },
  {
   "cell_type": "markdown",
   "id": "bfa3ceae",
   "metadata": {
    "papermill": {
     "duration": 0.006236,
     "end_time": "2022-10-29T21:00:16.085357",
     "exception": false,
     "start_time": "2022-10-29T21:00:16.079121",
     "status": "completed"
    },
    "tags": []
   },
   "source": [
    "# TODOs\n",
    "- README 파일의 정보를 포함하도록 새 열로 메타데이터를 채우세요...\n",
    "- start_time\n",
    "\n",
    "**README**\n",
    "- "
   ]
  },
  {
   "cell_type": "code",
   "execution_count": 4,
   "id": "50f747ba",
   "metadata": {
    "execution": {
     "iopub.execute_input": "2022-10-29T21:00:16.100709Z",
     "iopub.status.busy": "2022-10-29T21:00:16.099809Z",
     "iopub.status.idle": "2022-10-29T21:00:16.736917Z",
     "shell.execute_reply": "2022-10-29T21:00:16.735803Z"
    },
    "papermill": {
     "duration": 0.647908,
     "end_time": "2022-10-29T21:00:16.739635",
     "exception": false,
     "start_time": "2022-10-29T21:00:16.091727",
     "status": "completed"
    },
    "tags": []
   },
   "outputs": [],
   "source": [
    "mat = loadmat(\"../input/nasa-battery-dataset/battery_dataset/BatteryAgingARC-FY08Q4/B0005.mat\")"
   ]
  },
  {
   "cell_type": "code",
   "execution_count": 5,
   "id": "eb333559",
   "metadata": {
    "execution": {
     "iopub.execute_input": "2022-10-29T21:00:16.755417Z",
     "iopub.status.busy": "2022-10-29T21:00:16.754275Z",
     "iopub.status.idle": "2022-10-29T21:00:16.763429Z",
     "shell.execute_reply": "2022-10-29T21:00:16.762583Z"
    },
    "papermill": {
     "duration": 0.0195,
     "end_time": "2022-10-29T21:00:16.765859",
     "exception": false,
     "start_time": "2022-10-29T21:00:16.746359",
     "status": "completed"
    },
    "tags": []
   },
   "outputs": [],
   "source": [
    "df = pd.DataFrame(data=mat['B0005']['cycle'][0]['data'])"
   ]
  },
  {
   "cell_type": "code",
   "execution_count": 6,
   "id": "bf7fefd9",
   "metadata": {
    "execution": {
     "iopub.execute_input": "2022-10-29T21:00:16.781024Z",
     "iopub.status.busy": "2022-10-29T21:00:16.779961Z",
     "iopub.status.idle": "2022-10-29T21:00:16.811883Z",
     "shell.execute_reply": "2022-10-29T21:00:16.810680Z"
    },
    "papermill": {
     "duration": 0.042223,
     "end_time": "2022-10-29T21:00:16.814547",
     "exception": false,
     "start_time": "2022-10-29T21:00:16.772324",
     "status": "completed"
    },
    "tags": []
   },
   "outputs": [
    {
     "name": "stdout",
     "output_type": "stream",
     "text": [
      "<class 'pandas.core.frame.DataFrame'>\n",
      "RangeIndex: 789 entries, 0 to 788\n",
      "Data columns (total 6 columns):\n",
      " #   Column                Non-Null Count  Dtype  \n",
      "---  ------                --------------  -----  \n",
      " 0   Voltage_measured      789 non-null    float64\n",
      " 1   Current_measured      789 non-null    float64\n",
      " 2   Temperature_measured  789 non-null    float64\n",
      " 3   Current_charge        789 non-null    float64\n",
      " 4   Voltage_charge        789 non-null    float64\n",
      " 5   Time                  789 non-null    float64\n",
      "dtypes: float64(6)\n",
      "memory usage: 37.1 KB\n"
     ]
    }
   ],
   "source": [
    "df.info()"
   ]
  },
  {
   "cell_type": "code",
   "execution_count": 7,
   "id": "e7551198",
   "metadata": {
    "execution": {
     "iopub.execute_input": "2022-10-29T21:00:16.831387Z",
     "iopub.status.busy": "2022-10-29T21:00:16.830614Z",
     "iopub.status.idle": "2022-10-29T21:00:16.842476Z",
     "shell.execute_reply": "2022-10-29T21:00:16.841618Z"
    },
    "papermill": {
     "duration": 0.022626,
     "end_time": "2022-10-29T21:00:16.845132",
     "exception": false,
     "start_time": "2022-10-29T21:00:16.822506",
     "status": "completed"
    },
    "tags": []
   },
   "outputs": [],
   "source": [
    "import matplotlib.pyplot as plt\n",
    "\n",
    "def plot_test_data(df, profile=\"charge\"):\n",
    "    \n",
    "    if profile=='charge':\n",
    "        plt.figure(figsize=(10,4))\n",
    "        plt.plot(df.Time, df.Voltage_measured, 'b', label='Voltage_measured')\n",
    "        plt.plot(df.Time, df.Current_measured, 'r', label='Current_measured')\n",
    "        plt.legend()\n",
    "        plt.show()\n",
    "\n",
    "        plt.figure(figsize=(10,4))\n",
    "        plt.plot(df.Time, df.Voltage_charge, 'b', label='Voltage_charge')\n",
    "        plt.plot(df.Time, df.Current_charge, 'r', label='Current_charge')\n",
    "        plt.legend()\n",
    "        plt.show()\n",
    "\n",
    "        plt.figure(figsize=(10,4))\n",
    "        plt.plot(df.Time, df.Temperature_measured, 'k', label='Temperature_measured')\n",
    "        plt.legend()\n",
    "        plt.show()\n",
    "    elif profile=='discharge':\n",
    "        plt.figure(figsize=(10,4))\n",
    "        plt.plot(df.Time, df.Voltage_measured, 'b', label='Voltage_measured')\n",
    "        plt.plot(df.Time, df.Current_measured, 'r', label='Current_measured')\n",
    "        plt.legend()\n",
    "        plt.show()\n",
    "\n",
    "        plt.figure(figsize=(10,4))\n",
    "        plt.plot(df.Time, df.Voltage_load, 'b', label='Voltage_load')\n",
    "        plt.plot(df.Time, df.Current_load, 'r', label='Current_load')\n",
    "        plt.legend()\n",
    "        plt.show()\n",
    "\n",
    "        plt.figure(figsize=(10,4))\n",
    "        plt.plot(df.Time, df.Temperature_measured, 'k', label='Temperature_measured')\n",
    "        plt.legend()\n",
    "        plt.show()\n",
    "    elif profile=='impedance':\n",
    "        pass\n",
    "    else:\n",
    "        print('No cycle recognized')"
   ]
  },
  {
   "cell_type": "code",
   "execution_count": 8,
   "id": "c19cfc25",
   "metadata": {
    "execution": {
     "iopub.execute_input": "2022-10-29T21:00:16.860857Z",
     "iopub.status.busy": "2022-10-29T21:00:16.859719Z",
     "iopub.status.idle": "2022-10-29T21:00:17.514959Z",
     "shell.execute_reply": "2022-10-29T21:00:17.513684Z"
    },
    "papermill": {
     "duration": 0.665683,
     "end_time": "2022-10-29T21:00:17.517697",
     "exception": false,
     "start_time": "2022-10-29T21:00:16.852014",
     "status": "completed"
    },
    "tags": []
   },
   "outputs": [
    {
     "data": {
      "image/png": "[encoded data removed]",
      "text/plain": [
       "<Figure size 720x288 with 1 Axes>"
      ]
     },
     "metadata": {
      "needs_background": "light"
     },
     "output_type": "display_data"
    },
    {
     "data": {
      "image/png": "[encoded data removed]",
      "text/plain": [
       "<Figure size 720x288 with 1 Axes>"
      ]
     },
     "metadata": {
      "needs_background": "light"
     },
     "output_type": "display_data"
    },
    {
     "data": {
      "image/png": "[encoded data removed]",
      "text/plain": [
       "<Figure size 720x288 with 1 Axes>"
      ]
     },
     "metadata": {
      "needs_background": "light"
     },
     "output_type": "display_data"
    }
   ],
   "source": [
    "plot_test_data(df)"
   ]
  },
  {
   "cell_type": "code",
   "execution_count": 9,
   "id": "928b02c8",
   "metadata": {
    "execution": {
     "iopub.execute_input": "2022-10-29T21:00:17.534836Z",
     "iopub.status.busy": "2022-10-29T21:00:17.534433Z",
     "iopub.status.idle": "2022-10-29T21:00:17.556617Z",
     "shell.execute_reply": "2022-10-29T21:00:17.555166Z"
    },
    "papermill": {
     "duration": 0.033787,
     "end_time": "2022-10-29T21:00:17.559210",
     "exception": false,
     "start_time": "2022-10-29T21:00:17.525423",
     "status": "completed"
    },
    "tags": []
   },
   "outputs": [
    {
     "data": {
      "text/html": [
       "<div>\n",
       "<style scoped>\n",
       "    .dataframe tbody tr th:only-of-type {\n",
       "        vertical-align: middle;\n",
       "    }\n",
       "\n",
       "    .dataframe tbody tr th {\n",
       "        vertical-align: top;\n",
       "    }\n",
       "\n",
       "    .dataframe thead th {\n",
       "        text-align: right;\n",
       "    }\n",
       "</style>\n",
       "<table border=\"1\" class=\"dataframe\">\n",
       "  <thead>\n",
       "    <tr style=\"text-align: right;\">\n",
       "      <th></th>\n",
       "      <th>Voltage_measured</th>\n",
       "      <th>Current_measured</th>\n",
       "      <th>Temperature_measured</th>\n",
       "      <th>Current_load</th>\n",
       "      <th>Voltage_load</th>\n",
       "      <th>Time</th>\n",
       "      <th>Capacity</th>\n",
       "    </tr>\n",
       "  </thead>\n",
       "  <tbody>\n",
       "    <tr>\n",
       "      <th>0</th>\n",
       "      <td>4.191492</td>\n",
       "      <td>-0.004902</td>\n",
       "      <td>24.330034</td>\n",
       "      <td>-0.0006</td>\n",
       "      <td>0.000</td>\n",
       "      <td>0.000</td>\n",
       "      <td>1.856487</td>\n",
       "    </tr>\n",
       "    <tr>\n",
       "      <th>1</th>\n",
       "      <td>4.190749</td>\n",
       "      <td>-0.001478</td>\n",
       "      <td>24.325993</td>\n",
       "      <td>-0.0006</td>\n",
       "      <td>4.206</td>\n",
       "      <td>16.781</td>\n",
       "      <td>1.856487</td>\n",
       "    </tr>\n",
       "    <tr>\n",
       "      <th>2</th>\n",
       "      <td>3.974871</td>\n",
       "      <td>-2.012528</td>\n",
       "      <td>24.389085</td>\n",
       "      <td>-1.9982</td>\n",
       "      <td>3.062</td>\n",
       "      <td>35.703</td>\n",
       "      <td>1.856487</td>\n",
       "    </tr>\n",
       "    <tr>\n",
       "      <th>3</th>\n",
       "      <td>3.951717</td>\n",
       "      <td>-2.013979</td>\n",
       "      <td>24.544752</td>\n",
       "      <td>-1.9982</td>\n",
       "      <td>3.030</td>\n",
       "      <td>53.781</td>\n",
       "      <td>1.856487</td>\n",
       "    </tr>\n",
       "    <tr>\n",
       "      <th>4</th>\n",
       "      <td>3.934352</td>\n",
       "      <td>-2.011144</td>\n",
       "      <td>24.731385</td>\n",
       "      <td>-1.9982</td>\n",
       "      <td>3.011</td>\n",
       "      <td>71.922</td>\n",
       "      <td>1.856487</td>\n",
       "    </tr>\n",
       "  </tbody>\n",
       "</table>\n",
       "</div>"
      ],
      "text/plain": [
       "   Voltage_measured  Current_measured  Temperature_measured  Current_load  \\\n",
       "0          4.191492         -0.004902             24.330034       -0.0006   \n",
       "1          4.190749         -0.001478             24.325993       -0.0006   \n",
       "2          3.974871         -2.012528             24.389085       -1.9982   \n",
       "3          3.951717         -2.013979             24.544752       -1.9982   \n",
       "4          3.934352         -2.011144             24.731385       -1.9982   \n",
       "\n",
       "   Voltage_load    Time  Capacity  \n",
       "0         0.000   0.000  1.856487  \n",
       "1         4.206  16.781  1.856487  \n",
       "2         3.062  35.703  1.856487  \n",
       "3         3.030  53.781  1.856487  \n",
       "4         3.011  71.922  1.856487  "
      ]
     },
     "execution_count": 9,
     "metadata": {},
     "output_type": "execute_result"
    }
   ],
   "source": [
    "df = pd.DataFrame(data=mat['B0005']['cycle'][1]['data'])\n",
    "df.head()"
   ]
  },
  {
   "cell_type": "code",
   "execution_count": 10,
   "id": "8695d608",
   "metadata": {
    "execution": {
     "iopub.execute_input": "2022-10-29T21:00:17.577227Z",
     "iopub.status.busy": "2022-10-29T21:00:17.576744Z",
     "iopub.status.idle": "2022-10-29T21:00:18.363613Z",
     "shell.execute_reply": "2022-10-29T21:00:18.362394Z"
    },
    "papermill": {
     "duration": 0.799044,
     "end_time": "2022-10-29T21:00:18.366061",
     "exception": false,
     "start_time": "2022-10-29T21:00:17.567017",
     "status": "completed"
    },
    "tags": []
   },
   "outputs": [
    {
     "data": {
      "image/png": "[encoded data removed]",
      "text/plain": [
       "<Figure size 720x288 with 1 Axes>"
      ]
     },
     "metadata": {
      "needs_background": "light"
     },
     "output_type": "display_data"
    },
    {
     "data": {
      "image/png": "[encoded data removed]",
      "text/plain": [
       "<Figure size 720x288 with 1 Axes>"
      ]
     },
     "metadata": {
      "needs_background": "light"
     },
     "output_type": "display_data"
    },
    {
     "data": {
      "image/png": "[encoded data removed]",
      "text/plain": [
       "<Figure size 720x288 with 1 Axes>"
      ]
     },
     "metadata": {
      "needs_background": "light"
     },
     "output_type": "display_data"
    }
   ],
   "source": [
    "plot_test_data(df, profile='discharge')"
   ]
  },
  {
   "cell_type": "code",
   "execution_count": 11,
   "id": "1e93e038",
   "metadata": {
    "execution": {
     "iopub.execute_input": "2022-10-29T21:00:18.386509Z",
     "iopub.status.busy": "2022-10-29T21:00:18.385635Z",
     "iopub.status.idle": "2022-10-29T21:00:18.397940Z",
     "shell.execute_reply": "2022-10-29T21:00:18.396800Z"
    },
    "papermill": {
     "duration": 0.025173,
     "end_time": "2022-10-29T21:00:18.400563",
     "exception": false,
     "start_time": "2022-10-29T21:00:18.375390",
     "status": "completed"
    },
    "tags": []
   },
   "outputs": [],
   "source": [
    "def process_data_dict(data_dict):\n",
    "    \"\"\" Creates two dictionaries:\n",
    "    - ndict: new dictionary with the test data to build a corresponding dataframe\n",
    "    - metadata_dict: anything that doesn't fit in ndict ('Capacity' is just a float)\n",
    "    \"\"\"\n",
    "    \n",
    "    ndict = {}\n",
    "    metadata_dict = {}\n",
    "    for k, v in data_dict.items():\n",
    "        if k not in ['Capacity', 'Re', 'Rct']:\n",
    "            ndict[k]=v\n",
    "        elif k == 'Capacity':\n",
    "            metadata_dict[k]=v\n",
    "        elif k == 'Re':\n",
    "            metadata_dict[k]=v\n",
    "        elif k == 'Rct':\n",
    "            metadata_dict[k]=v\n",
    "        else:\n",
    "            print(\"c'est la merde\")\n",
    "    \n",
    "    return ndict, metadata_dict\n",
    "\n",
    "\n",
    "def fill_metadata_row(metadata, test_type, test_start_time, test_temperature, battery_name, test_id, uid, filename, capacity, re, rct):\n",
    "    tmp = pd.DataFrame(data=[test_type, test_start_time, test_temperature, battery_name, test_id, uid, filename, capacity, re, rct])\n",
    "    tmp = tmp.transpose()\n",
    "    tmp.columns = metadata.columns\n",
    "    metadata = pd.concat((metadata, tmp), axis=0)\n",
    "    return metadata\n",
    "\n",
    "\n",
    "def extract_more_metadata(metadata_dict):\n",
    "    \n",
    "    if 'Capacity' in metadata_dict.keys():\n",
    "        capacity = metadata_dict['Capacity']\n",
    "    else:\n",
    "        capacity = np.nan\n",
    "        \n",
    "    if 'Re' in metadata_dict.keys():\n",
    "        re = metadata_dict['Re']\n",
    "    else:\n",
    "        re = np.nan\n",
    "        \n",
    "    if 'Rct' in metadata_dict.keys():\n",
    "        rct = metadata_dict['Rct']\n",
    "    else:\n",
    "        rct = np.nan\n",
    "    \n",
    "    return capacity, re, rct"
   ]
  },
  {
   "cell_type": "code",
   "execution_count": 12,
   "id": "6108c09e",
   "metadata": {
    "execution": {
     "iopub.execute_input": "2022-10-29T21:00:18.419802Z",
     "iopub.status.busy": "2022-10-29T21:00:18.419373Z",
     "iopub.status.idle": "2022-10-29T21:00:18.428204Z",
     "shell.execute_reply": "2022-10-29T21:00:18.427048Z"
    },
    "papermill": {
     "duration": 0.021209,
     "end_time": "2022-10-29T21:00:18.430617",
     "exception": false,
     "start_time": "2022-10-29T21:00:18.409408",
     "status": "completed"
    },
    "tags": []
   },
   "outputs": [],
   "source": [
    "metadata = pd.DataFrame(data=None, columns=['type', 'start_time', 'ambient_temperature', 'battery_id', 'test_id', 'uid', 'filename', 'Capacity', 'Re', 'Rct'])\n",
    "battery_list = [item.split('/')[-1].split('.')[0] for item in FILELIST]"
   ]
  },
  {
   "cell_type": "code",
   "execution_count": 13,
   "id": "d0345ff6",
   "metadata": {
    "execution": {
     "iopub.execute_input": "2022-10-29T21:00:18.449915Z",
     "iopub.status.busy": "2022-10-29T21:00:18.449510Z",
     "iopub.status.idle": "2022-10-29T21:00:18.455938Z",
     "shell.execute_reply": "2022-10-29T21:00:18.454817Z"
    },
    "papermill": {
     "duration": 0.018554,
     "end_time": "2022-10-29T21:00:18.458174",
     "exception": false,
     "start_time": "2022-10-29T21:00:18.439620",
     "status": "completed"
    },
    "tags": []
   },
   "outputs": [],
   "source": [
    "# We create a tmp directory in which we will save all CSV files\n",
    "CWD = os.getcwd()\n",
    "os.listdir(CWD)\n",
    "directory = \"tmp\"\n",
    "path = os.path.join(CWD, directory)\n",
    "if not os.path.exists(path):\n",
    "    os.mkdir(path)"
   ]
  },
  {
   "cell_type": "code",
   "execution_count": 14,
   "id": "86376795",
   "metadata": {
    "execution": {
     "iopub.execute_input": "2022-10-29T21:00:18.478231Z",
     "iopub.status.busy": "2022-10-29T21:00:18.477826Z",
     "iopub.status.idle": "2022-10-29T21:00:18.486055Z",
     "shell.execute_reply": "2022-10-29T21:00:18.484664Z"
    },
    "papermill": {
     "duration": 0.021659,
     "end_time": "2022-10-29T21:00:18.488509",
     "exception": false,
     "start_time": "2022-10-29T21:00:18.466850",
     "status": "completed"
    },
    "tags": []
   },
   "outputs": [
    {
     "data": {
      "text/plain": [
       "['tmp', '__notebook__.ipynb']"
      ]
     },
     "execution_count": 14,
     "metadata": {},
     "output_type": "execute_result"
    }
   ],
   "source": [
    "os.listdir(CWD) # we check that tmp exists now"
   ]
  },
  {
   "cell_type": "code",
   "execution_count": 15,
   "id": "2d946a5c",
   "metadata": {
    "execution": {
     "iopub.execute_input": "2022-10-29T21:00:18.508878Z",
     "iopub.status.busy": "2022-10-29T21:00:18.508472Z",
     "iopub.status.idle": "2022-10-29T21:05:31.419679Z",
     "shell.execute_reply": "2022-10-29T21:05:31.418524Z"
    },
    "papermill": {
     "duration": 312.924519,
     "end_time": "2022-10-29T21:05:31.422491",
     "exception": false,
     "start_time": "2022-10-29T21:00:18.497972",
     "status": "completed"
    },
    "tags": []
   },
   "outputs": [
    {
     "name": "stdout",
     "output_type": "stream",
     "text": [
      "/B0047.mat --> B0047\n",
      "/B0045.mat --> B0045\n",
      "/B0048.mat --> B0048\n",
      "/B0046.mat --> B0046\n",
      "/B0043.mat --> B0043\n",
      "/B0032.mat --> B0032\n",
      "/B0039.mat --> B0039\n",
      "/B0040.mat --> B0040\n",
      "/B0029.mat --> B0029\n",
      "/B0028.mat --> B0028\n",
      "/B0042.mat --> B0042\n",
      "/B0034.mat --> B0034\n",
      "/B0038.mat --> B0038\n",
      "/B0033.mat --> B0033\n",
      "/B0030.mat --> B0030\n",
      "/B0041.mat --> B0041\n",
      "/B0027.mat --> B0027\n",
      "/B0044.mat --> B0044\n",
      "/B0036.mat --> B0036\n",
      "/B0025.mat --> B0025\n",
      "/B0026.mat --> B0026\n",
      "/B0031.mat --> B0031\n",
      "/B0049.mat --> B0049\n",
      "/B0050.mat --> B0050\n",
      "/B0052.mat --> B0052\n",
      "/B0051.mat --> B0051\n",
      "/B0006.mat --> B0006\n",
      "/B0005.mat --> B0005\n",
      "/B0007.mat --> B0007\n",
      "/B0018.mat --> B0018\n",
      "/B0053.mat --> B0053\n",
      "/B0054.mat --> B0054\n",
      "/B0056.mat --> B0056\n",
      "/B0055.mat --> B0055\n"
     ]
    }
   ],
   "source": [
    "uid = 0\n",
    "# counter = 0\n",
    "for battery_name, mat_filepath in zip(battery_list, FILELIST):\n",
    "    # counter +=1\n",
    "    \n",
    "    mat_data = scipy.io.loadmat(mat_filepath, simplify_cells=True)\n",
    "    print(mat_filepath[-10:],\"-->\", battery_name)\n",
    "    test_list = mat_data[battery_name]['cycle']\n",
    "    \n",
    "    for test_id in range(len(test_list)):\n",
    "        \n",
    "        uid += 1\n",
    "        filename = str(uid).zfill(5)+'.csv'\n",
    "        filepath = './tmp/' + filename\n",
    "\n",
    "        # Extract the specific test data and save it as CSV! \n",
    "        ndict, metadata_dict = process_data_dict(test_list[test_id]['data'])\n",
    "        test_df = pd.DataFrame.from_dict(ndict, orient='index')\n",
    "        test_df = test_df.transpose()\n",
    "\n",
    "        test_df.to_csv(filepath, index=False)\n",
    "                \n",
    "        # Add test information to the metadata\n",
    "        test_type = test_list[test_id]['type']\n",
    "        test_start_time = test_list[test_id]['time']\n",
    "        test_temperature = test_list[test_id]['ambient_temperature']\n",
    "        \n",
    "        capacity, re, rct = extract_more_metadata(metadata_dict)\n",
    "        metadata = fill_metadata_row(metadata, test_type, test_start_time, test_temperature, battery_name, test_id, uid, filename, capacity, re, rct)\n",
    "        \n",
    "    # if counter > 2:\n",
    "    #    break"
   ]
  },
  {
   "cell_type": "code",
   "execution_count": 16,
   "id": "3e45ab02",
   "metadata": {
    "execution": {
     "iopub.execute_input": "2022-10-29T21:05:31.446511Z",
     "iopub.status.busy": "2022-10-29T21:05:31.445717Z",
     "iopub.status.idle": "2022-10-29T21:05:32.400037Z",
     "shell.execute_reply": "2022-10-29T21:05:32.398699Z"
    },
    "papermill": {
     "duration": 0.969427,
     "end_time": "2022-10-29T21:05:32.402795",
     "exception": false,
     "start_time": "2022-10-29T21:05:31.433368",
     "status": "completed"
    },
    "tags": []
   },
   "outputs": [],
   "source": [
    "metadata.to_csv('metadata.csv', index=False)"
   ]
  },
  {
   "cell_type": "code",
   "execution_count": 17,
   "id": "157a90c5",
   "metadata": {
    "execution": {
     "iopub.execute_input": "2022-10-29T21:05:32.425928Z",
     "iopub.status.busy": "2022-10-29T21:05:32.425415Z",
     "iopub.status.idle": "2022-10-29T21:05:32.446021Z",
     "shell.execute_reply": "2022-10-29T21:05:32.444670Z"
    },
    "papermill": {
     "duration": 0.03519,
     "end_time": "2022-10-29T21:05:32.448564",
     "exception": false,
     "start_time": "2022-10-29T21:05:32.413374",
     "status": "completed"
    },
    "tags": []
   },
   "outputs": [
    {
     "name": "stdout",
     "output_type": "stream",
     "text": [
      "<class 'pandas.core.frame.DataFrame'>\n",
      "Int64Index: 7565 entries, 0 to 0\n",
      "Data columns (total 10 columns):\n",
      " #   Column               Non-Null Count  Dtype \n",
      "---  ------               --------------  ----- \n",
      " 0   type                 7565 non-null   object\n",
      " 1   start_time           7565 non-null   object\n",
      " 2   ambient_temperature  7565 non-null   object\n",
      " 3   battery_id           7565 non-null   object\n",
      " 4   test_id              7565 non-null   object\n",
      " 5   uid                  7565 non-null   object\n",
      " 6   filename             7565 non-null   object\n",
      " 7   Capacity             2794 non-null   object\n",
      " 8   Re                   1956 non-null   object\n",
      " 9   Rct                  1956 non-null   object\n",
      "dtypes: object(10)\n",
      "memory usage: 650.1+ KB\n"
     ]
    }
   ],
   "source": [
    "metadata.info()"
   ]
  },
  {
   "cell_type": "code",
   "execution_count": 18,
   "id": "89830ff0",
   "metadata": {
    "execution": {
     "iopub.execute_input": "2022-10-29T21:05:32.472337Z",
     "iopub.status.busy": "2022-10-29T21:05:32.471589Z",
     "iopub.status.idle": "2022-10-29T21:05:32.476669Z",
     "shell.execute_reply": "2022-10-29T21:05:32.475491Z"
    },
    "papermill": {
     "duration": 0.019472,
     "end_time": "2022-10-29T21:05:32.479054",
     "exception": false,
     "start_time": "2022-10-29T21:05:32.459582",
     "status": "completed"
    },
    "tags": []
   },
   "outputs": [],
   "source": [
    "import shutil"
   ]
  },
  {
   "cell_type": "code",
   "execution_count": 19,
   "id": "55a4cb18",
   "metadata": {
    "execution": {
     "iopub.execute_input": "2022-10-29T21:05:32.503045Z",
     "iopub.status.busy": "2022-10-29T21:05:32.502618Z",
     "iopub.status.idle": "2022-10-29T21:06:23.579444Z",
     "shell.execute_reply": "2022-10-29T21:06:23.578447Z"
    },
    "papermill": {
     "duration": 51.103104,
     "end_time": "2022-10-29T21:06:23.592981",
     "exception": false,
     "start_time": "2022-10-29T21:05:32.489877",
     "status": "completed"
    },
    "tags": []
   },
   "outputs": [
    {
     "data": {
      "text/plain": [
       "'/kaggle/working/data.zip'"
      ]
     },
     "execution_count": 19,
     "metadata": {},
     "output_type": "execute_result"
    }
   ],
   "source": [
    "shutil.make_archive('data', 'zip', 'tmp')"
   ]
  },
  {
   "cell_type": "markdown",
   "id": "0ebec3f8",
   "metadata": {
    "papermill": {
     "duration": 0.010649,
     "end_time": "2022-10-29T21:06:23.637032",
     "exception": false,
     "start_time": "2022-10-29T21:06:23.626383",
     "status": "completed"
    },
    "tags": []
   },
   "source": [
    "## 문제  \n",
    "배터리 25,26,27,28에 몇 개의 중복이 있는 것 같습니다. 실제로 데이터를 확인해 봅시다.\n",
    "- 원시 데이터를 보면 중복이 있음을 확인할 수 있습니다."
   ]
  },
  {
   "cell_type": "code",
   "execution_count": null,
   "id": "1f5db426-7493-4b3a-9a3e-58ab2cccf889",
   "metadata": {},
   "outputs": [],
   "source": []
  }
 ],
 "metadata": {
  "kernelspec": {
   "display_name": "Python 3 (ipykernel)",
   "language": "python",
   "name": "python3"
  },
  "language_info": {
   "codemirror_mode": {
    "name": "ipython",
    "version": 3
   },
   "file_extension": ".py",
   "mimetype": "text/x-python",
   "name": "python",
   "nbconvert_exporter": "python",
   "pygments_lexer": "ipython3",
   "version": "3.8.16"
  },
  "papermill": {
   "default_parameters": {},
   "duration": 377.559452,
   "end_time": "2022-10-29T21:06:24.372543",
   "environment_variables": {},
   "exception": null,
   "input_path": "__notebook__.ipynb",
   "output_path": "__notebook__.ipynb",
   "parameters": {},
   "start_time": "2022-10-29T21:00:06.813091",
   "version": "2.3.4"
  }
 },
 "nbformat": 4,
 "nbformat_minor": 5
}
