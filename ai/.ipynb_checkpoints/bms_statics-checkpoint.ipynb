{
 "cells": [
  {
   "cell_type": "markdown",
   "id": "51cfb78d-3c7d-48ad-9556-67d6c450fa22",
   "metadata": {},
   "source": [
    "# BMS 기반 통계치"
   ]
  },
  {
   "cell_type": "code",
   "execution_count": 1,
   "id": "ea31ad79-f579-48cf-9abe-5bc5bc390c9e",
   "metadata": {},
   "outputs": [],
   "source": [
    "import os\n",
    "import datetime\n",
    "import pandas as pd\n",
    "import numpy as np\n",
    "from mpl_toolkits.mplot3d import Axes3D\n",
    "from sklearn.preprocessing import StandardScaler\n",
    "from sklearn.preprocessing import MinMaxScaler\n",
    "import pickle\n",
    "import warnings\n",
    "warnings.filterwarnings(\"ignore\")"
   ]
  },
  {
   "cell_type": "code",
   "execution_count": 2,
   "id": "7a1f0e20-fb24-4997-92db-1705b22fa514",
   "metadata": {},
   "outputs": [],
   "source": [
    "# 데이터 값 실수. 소수점 두째자리까지 표시\n",
    "pd.options.display.float_format = '{:.2f}'.format"
   ]
  },
  {
   "cell_type": "markdown",
   "id": "48d04b6b-3d0f-4aed-adb0-45481bb0c7d6",
   "metadata": {},
   "source": [
    "## 0. 데이터 읽기"
   ]
  },
  {
   "cell_type": "code",
   "execution_count": 3,
   "id": "76fabc6a-2879-49f1-9579-59e0b21f92d0",
   "metadata": {},
   "outputs": [],
   "source": [
    "df = pd.read_csv('csv_data/cycles_5_final_dataset.csv', infer_datetime_format=True)"
   ]
  },
  {
   "cell_type": "code",
   "execution_count": 4,
   "id": "cbd59452-7faa-4c2e-aaac-61d57abc7802",
   "metadata": {},
   "outputs": [
    {
     "name": "stdout",
     "output_type": "stream",
     "text": [
      "<class 'pandas.core.frame.DataFrame'>\n",
      "RangeIndex: 136992 entries, 0 to 136991\n",
      "Data columns (total 15 columns):\n",
      " #   Column         Non-Null Count   Dtype  \n",
      "---  ------         --------------   -----  \n",
      " 0   BSM-p          136992 non-null  object \n",
      " 1   BSM-m          136992 non-null  object \n",
      " 2   BSM-c          136992 non-null  object \n",
      " 3   Datetime       136992 non-null  object \n",
      " 4   Voltage-p      136992 non-null  float64\n",
      " 5   Voltage-m      136992 non-null  float64\n",
      " 6   Voltage-c      136992 non-null  float64\n",
      " 7   Current        136992 non-null  float64\n",
      " 8   Temperature-p  136992 non-null  float64\n",
      " 9   Temperature-m  136992 non-null  float64\n",
      " 10  State          136992 non-null  int64  \n",
      " 11  Capacity       93696 non-null   float64\n",
      " 12  SOC            136992 non-null  float64\n",
      " 13  SOH            93696 non-null   float64\n",
      " 14  Cycles         136992 non-null  int64  \n",
      "dtypes: float64(9), int64(2), object(4)\n",
      "memory usage: 15.7+ MB\n"
     ]
    }
   ],
   "source": [
    "df.info()"
   ]
  },
  {
   "cell_type": "code",
   "execution_count": 5,
   "id": "07fba83d-1d61-4571-bca5-3f8c0bdece26",
   "metadata": {},
   "outputs": [],
   "source": [
    "df['Datetime'] = pd.to_datetime(df['Datetime'])"
   ]
  },
  {
   "cell_type": "code",
   "execution_count": 6,
   "id": "7a87a85b-61d9-4480-b97e-c82f3639ec7e",
   "metadata": {},
   "outputs": [],
   "source": [
    "fuel_cells_df = df"
   ]
  },
  {
   "cell_type": "code",
   "execution_count": 7,
   "id": "ab09e396-ea4b-40fa-9f2c-95cbff7a9f62",
   "metadata": {},
   "outputs": [
    {
     "data": {
      "text/html": [
       "<div>\n",
       "<style scoped>\n",
       "    .dataframe tbody tr th:only-of-type {\n",
       "        vertical-align: middle;\n",
       "    }\n",
       "\n",
       "    .dataframe tbody tr th {\n",
       "        vertical-align: top;\n",
       "    }\n",
       "\n",
       "    .dataframe thead th {\n",
       "        text-align: right;\n",
       "    }\n",
       "</style>\n",
       "<table border=\"1\" class=\"dataframe\">\n",
       "  <thead>\n",
       "    <tr style=\"text-align: right;\">\n",
       "      <th></th>\n",
       "      <th>BSM-p</th>\n",
       "      <th>BSM-m</th>\n",
       "      <th>BSM-c</th>\n",
       "      <th>Datetime</th>\n",
       "      <th>Voltage-p</th>\n",
       "      <th>Voltage-m</th>\n",
       "      <th>Voltage-c</th>\n",
       "      <th>Current</th>\n",
       "      <th>Temperature-p</th>\n",
       "      <th>Temperature-m</th>\n",
       "      <th>State</th>\n",
       "      <th>Capacity</th>\n",
       "      <th>SOC</th>\n",
       "      <th>SOH</th>\n",
       "      <th>Cycles</th>\n",
       "    </tr>\n",
       "  </thead>\n",
       "  <tbody>\n",
       "    <tr>\n",
       "      <th>0</th>\n",
       "      <td>SN-P10001</td>\n",
       "      <td>SN-M10001</td>\n",
       "      <td>SN-C10001</td>\n",
       "      <td>2023-04-12 19:00:00</td>\n",
       "      <td>381.83</td>\n",
       "      <td>44.86</td>\n",
       "      <td>2.97</td>\n",
       "      <td>145.25</td>\n",
       "      <td>15.82</td>\n",
       "      <td>15.00</td>\n",
       "      <td>1</td>\n",
       "      <td>NaN</td>\n",
       "      <td>0.00</td>\n",
       "      <td>NaN</td>\n",
       "      <td>1</td>\n",
       "    </tr>\n",
       "    <tr>\n",
       "      <th>1</th>\n",
       "      <td>SN-P10001</td>\n",
       "      <td>SN-M10001</td>\n",
       "      <td>SN-C10002</td>\n",
       "      <td>2023-04-12 19:00:00</td>\n",
       "      <td>381.83</td>\n",
       "      <td>44.86</td>\n",
       "      <td>3.47</td>\n",
       "      <td>145.25</td>\n",
       "      <td>15.82</td>\n",
       "      <td>15.00</td>\n",
       "      <td>1</td>\n",
       "      <td>NaN</td>\n",
       "      <td>0.00</td>\n",
       "      <td>NaN</td>\n",
       "      <td>1</td>\n",
       "    </tr>\n",
       "    <tr>\n",
       "      <th>2</th>\n",
       "      <td>SN-P10001</td>\n",
       "      <td>SN-M10001</td>\n",
       "      <td>SN-C10003</td>\n",
       "      <td>2023-04-12 19:00:00</td>\n",
       "      <td>381.83</td>\n",
       "      <td>44.86</td>\n",
       "      <td>4.08</td>\n",
       "      <td>145.25</td>\n",
       "      <td>15.82</td>\n",
       "      <td>15.00</td>\n",
       "      <td>1</td>\n",
       "      <td>NaN</td>\n",
       "      <td>0.00</td>\n",
       "      <td>NaN</td>\n",
       "      <td>1</td>\n",
       "    </tr>\n",
       "    <tr>\n",
       "      <th>3</th>\n",
       "      <td>SN-P10001</td>\n",
       "      <td>SN-M10001</td>\n",
       "      <td>SN-C10004</td>\n",
       "      <td>2023-04-12 19:00:00</td>\n",
       "      <td>381.83</td>\n",
       "      <td>44.86</td>\n",
       "      <td>3.58</td>\n",
       "      <td>145.25</td>\n",
       "      <td>15.82</td>\n",
       "      <td>15.00</td>\n",
       "      <td>1</td>\n",
       "      <td>NaN</td>\n",
       "      <td>0.00</td>\n",
       "      <td>NaN</td>\n",
       "      <td>1</td>\n",
       "    </tr>\n",
       "    <tr>\n",
       "      <th>4</th>\n",
       "      <td>SN-P10001</td>\n",
       "      <td>SN-M10001</td>\n",
       "      <td>SN-C10005</td>\n",
       "      <td>2023-04-12 19:00:00</td>\n",
       "      <td>381.83</td>\n",
       "      <td>44.86</td>\n",
       "      <td>3.38</td>\n",
       "      <td>145.25</td>\n",
       "      <td>15.82</td>\n",
       "      <td>15.00</td>\n",
       "      <td>1</td>\n",
       "      <td>NaN</td>\n",
       "      <td>0.00</td>\n",
       "      <td>NaN</td>\n",
       "      <td>1</td>\n",
       "    </tr>\n",
       "    <tr>\n",
       "      <th>...</th>\n",
       "      <td>...</td>\n",
       "      <td>...</td>\n",
       "      <td>...</td>\n",
       "      <td>...</td>\n",
       "      <td>...</td>\n",
       "      <td>...</td>\n",
       "      <td>...</td>\n",
       "      <td>...</td>\n",
       "      <td>...</td>\n",
       "      <td>...</td>\n",
       "      <td>...</td>\n",
       "      <td>...</td>\n",
       "      <td>...</td>\n",
       "      <td>...</td>\n",
       "      <td>...</td>\n",
       "    </tr>\n",
       "    <tr>\n",
       "      <th>136987</th>\n",
       "      <td>SN-P10001</td>\n",
       "      <td>SN-M10008</td>\n",
       "      <td>SN-C10092</td>\n",
       "      <td>2023-05-16 14:51:00</td>\n",
       "      <td>381.91</td>\n",
       "      <td>47.31</td>\n",
       "      <td>4.43</td>\n",
       "      <td>72.75</td>\n",
       "      <td>18.39</td>\n",
       "      <td>18.39</td>\n",
       "      <td>2</td>\n",
       "      <td>1.83</td>\n",
       "      <td>0.00</td>\n",
       "      <td>0.99</td>\n",
       "      <td>5</td>\n",
       "    </tr>\n",
       "    <tr>\n",
       "      <th>136988</th>\n",
       "      <td>SN-P10001</td>\n",
       "      <td>SN-M10008</td>\n",
       "      <td>SN-C10093</td>\n",
       "      <td>2023-05-16 14:51:00</td>\n",
       "      <td>381.91</td>\n",
       "      <td>47.31</td>\n",
       "      <td>3.95</td>\n",
       "      <td>72.75</td>\n",
       "      <td>18.39</td>\n",
       "      <td>18.39</td>\n",
       "      <td>2</td>\n",
       "      <td>1.83</td>\n",
       "      <td>0.00</td>\n",
       "      <td>0.99</td>\n",
       "      <td>5</td>\n",
       "    </tr>\n",
       "    <tr>\n",
       "      <th>136989</th>\n",
       "      <td>SN-P10001</td>\n",
       "      <td>SN-M10008</td>\n",
       "      <td>SN-C10094</td>\n",
       "      <td>2023-05-16 14:51:00</td>\n",
       "      <td>381.91</td>\n",
       "      <td>47.31</td>\n",
       "      <td>4.86</td>\n",
       "      <td>72.75</td>\n",
       "      <td>18.39</td>\n",
       "      <td>18.39</td>\n",
       "      <td>2</td>\n",
       "      <td>1.83</td>\n",
       "      <td>0.00</td>\n",
       "      <td>0.99</td>\n",
       "      <td>5</td>\n",
       "    </tr>\n",
       "    <tr>\n",
       "      <th>136990</th>\n",
       "      <td>SN-P10001</td>\n",
       "      <td>SN-M10008</td>\n",
       "      <td>SN-C10095</td>\n",
       "      <td>2023-05-16 14:51:00</td>\n",
       "      <td>381.91</td>\n",
       "      <td>47.31</td>\n",
       "      <td>4.36</td>\n",
       "      <td>72.75</td>\n",
       "      <td>18.39</td>\n",
       "      <td>18.39</td>\n",
       "      <td>2</td>\n",
       "      <td>1.83</td>\n",
       "      <td>0.00</td>\n",
       "      <td>0.99</td>\n",
       "      <td>5</td>\n",
       "    </tr>\n",
       "    <tr>\n",
       "      <th>136991</th>\n",
       "      <td>SN-P10001</td>\n",
       "      <td>SN-M10008</td>\n",
       "      <td>SN-C10096</td>\n",
       "      <td>2023-05-16 14:51:00</td>\n",
       "      <td>381.91</td>\n",
       "      <td>47.31</td>\n",
       "      <td>3.70</td>\n",
       "      <td>72.75</td>\n",
       "      <td>18.39</td>\n",
       "      <td>18.39</td>\n",
       "      <td>2</td>\n",
       "      <td>1.83</td>\n",
       "      <td>0.00</td>\n",
       "      <td>0.99</td>\n",
       "      <td>5</td>\n",
       "    </tr>\n",
       "  </tbody>\n",
       "</table>\n",
       "<p>136992 rows × 15 columns</p>\n",
       "</div>"
      ],
      "text/plain": [
       "            BSM-p      BSM-m      BSM-c            Datetime  Voltage-p  \\\n",
       "0       SN-P10001  SN-M10001  SN-C10001 2023-04-12 19:00:00     381.83   \n",
       "1       SN-P10001  SN-M10001  SN-C10002 2023-04-12 19:00:00     381.83   \n",
       "2       SN-P10001  SN-M10001  SN-C10003 2023-04-12 19:00:00     381.83   \n",
       "3       SN-P10001  SN-M10001  SN-C10004 2023-04-12 19:00:00     381.83   \n",
       "4       SN-P10001  SN-M10001  SN-C10005 2023-04-12 19:00:00     381.83   \n",
       "...           ...        ...        ...                 ...        ...   \n",
       "136987  SN-P10001  SN-M10008  SN-C10092 2023-05-16 14:51:00     381.91   \n",
       "136988  SN-P10001  SN-M10008  SN-C10093 2023-05-16 14:51:00     381.91   \n",
       "136989  SN-P10001  SN-M10008  SN-C10094 2023-05-16 14:51:00     381.91   \n",
       "136990  SN-P10001  SN-M10008  SN-C10095 2023-05-16 14:51:00     381.91   \n",
       "136991  SN-P10001  SN-M10008  SN-C10096 2023-05-16 14:51:00     381.91   \n",
       "\n",
       "        Voltage-m  Voltage-c  Current  Temperature-p  Temperature-m  State  \\\n",
       "0           44.86       2.97   145.25          15.82          15.00      1   \n",
       "1           44.86       3.47   145.25          15.82          15.00      1   \n",
       "2           44.86       4.08   145.25          15.82          15.00      1   \n",
       "3           44.86       3.58   145.25          15.82          15.00      1   \n",
       "4           44.86       3.38   145.25          15.82          15.00      1   \n",
       "...           ...        ...      ...            ...            ...    ...   \n",
       "136987      47.31       4.43    72.75          18.39          18.39      2   \n",
       "136988      47.31       3.95    72.75          18.39          18.39      2   \n",
       "136989      47.31       4.86    72.75          18.39          18.39      2   \n",
       "136990      47.31       4.36    72.75          18.39          18.39      2   \n",
       "136991      47.31       3.70    72.75          18.39          18.39      2   \n",
       "\n",
       "        Capacity  SOC  SOH  Cycles  \n",
       "0            NaN 0.00  NaN       1  \n",
       "1            NaN 0.00  NaN       1  \n",
       "2            NaN 0.00  NaN       1  \n",
       "3            NaN 0.00  NaN       1  \n",
       "4            NaN 0.00  NaN       1  \n",
       "...          ...  ...  ...     ...  \n",
       "136987      1.83 0.00 0.99       5  \n",
       "136988      1.83 0.00 0.99       5  \n",
       "136989      1.83 0.00 0.99       5  \n",
       "136990      1.83 0.00 0.99       5  \n",
       "136991      1.83 0.00 0.99       5  \n",
       "\n",
       "[136992 rows x 15 columns]"
      ]
     },
     "execution_count": 7,
     "metadata": {},
     "output_type": "execute_result"
    }
   ],
   "source": [
    "fuel_cells_df"
   ]
  },
  {
   "cell_type": "markdown",
   "id": "bd7a9509-2980-4073-a243-3069eb4e9555",
   "metadata": {},
   "source": [
    "### 데이터 전처리(팩단위 데이터, 중복 제거)"
   ]
  },
  {
   "cell_type": "code",
   "execution_count": 8,
   "id": "cd5e3b7e-b28f-4084-8228-7f929b144b8f",
   "metadata": {},
   "outputs": [],
   "source": [
    "# 필요한 컬럼만 추출\n",
    "selected_columns = ['BSM-p', 'Datetime', 'Voltage-p', 'Current', 'Temperature-p', 'State', 'Capacity', 'SOC', 'SOH', 'Cycles']\n",
    "fuel_cells_df = fuel_cells_df[selected_columns]\n",
    "\n",
    "# 중복 제거\n",
    "fuel_cells_df = fuel_cells_df.drop_duplicates()"
   ]
  },
  {
   "cell_type": "code",
   "execution_count": 9,
   "id": "93228e67-2c4c-4206-ae44-8cdd5132c0f7",
   "metadata": {},
   "outputs": [
    {
     "data": {
      "text/html": [
       "<div>\n",
       "<style scoped>\n",
       "    .dataframe tbody tr th:only-of-type {\n",
       "        vertical-align: middle;\n",
       "    }\n",
       "\n",
       "    .dataframe tbody tr th {\n",
       "        vertical-align: top;\n",
       "    }\n",
       "\n",
       "    .dataframe thead th {\n",
       "        text-align: right;\n",
       "    }\n",
       "</style>\n",
       "<table border=\"1\" class=\"dataframe\">\n",
       "  <thead>\n",
       "    <tr style=\"text-align: right;\">\n",
       "      <th></th>\n",
       "      <th>BSM-p</th>\n",
       "      <th>Datetime</th>\n",
       "      <th>Voltage-p</th>\n",
       "      <th>Current</th>\n",
       "      <th>Temperature-p</th>\n",
       "      <th>State</th>\n",
       "      <th>Capacity</th>\n",
       "      <th>SOC</th>\n",
       "      <th>SOH</th>\n",
       "      <th>Cycles</th>\n",
       "    </tr>\n",
       "  </thead>\n",
       "  <tbody>\n",
       "    <tr>\n",
       "      <th>0</th>\n",
       "      <td>SN-P10001</td>\n",
       "      <td>2023-04-12 19:00:00</td>\n",
       "      <td>381.83</td>\n",
       "      <td>145.25</td>\n",
       "      <td>15.82</td>\n",
       "      <td>1</td>\n",
       "      <td>NaN</td>\n",
       "      <td>0.00</td>\n",
       "      <td>NaN</td>\n",
       "      <td>1</td>\n",
       "    </tr>\n",
       "    <tr>\n",
       "      <th>96</th>\n",
       "      <td>SN-P10001</td>\n",
       "      <td>2023-04-12 19:01:00</td>\n",
       "      <td>389.84</td>\n",
       "      <td>150.77</td>\n",
       "      <td>15.63</td>\n",
       "      <td>1</td>\n",
       "      <td>NaN</td>\n",
       "      <td>0.13</td>\n",
       "      <td>NaN</td>\n",
       "      <td>1</td>\n",
       "    </tr>\n",
       "    <tr>\n",
       "      <th>192</th>\n",
       "      <td>SN-P10001</td>\n",
       "      <td>2023-04-12 19:02:00</td>\n",
       "      <td>389.84</td>\n",
       "      <td>150.74</td>\n",
       "      <td>15.62</td>\n",
       "      <td>1</td>\n",
       "      <td>NaN</td>\n",
       "      <td>0.25</td>\n",
       "      <td>NaN</td>\n",
       "      <td>1</td>\n",
       "    </tr>\n",
       "    <tr>\n",
       "      <th>288</th>\n",
       "      <td>SN-P10001</td>\n",
       "      <td>2023-04-12 19:03:00</td>\n",
       "      <td>389.83</td>\n",
       "      <td>150.66</td>\n",
       "      <td>15.62</td>\n",
       "      <td>1</td>\n",
       "      <td>NaN</td>\n",
       "      <td>0.38</td>\n",
       "      <td>NaN</td>\n",
       "      <td>1</td>\n",
       "    </tr>\n",
       "    <tr>\n",
       "      <th>384</th>\n",
       "      <td>SN-P10001</td>\n",
       "      <td>2023-04-12 19:04:00</td>\n",
       "      <td>389.84</td>\n",
       "      <td>150.71</td>\n",
       "      <td>15.61</td>\n",
       "      <td>1</td>\n",
       "      <td>NaN</td>\n",
       "      <td>0.51</td>\n",
       "      <td>NaN</td>\n",
       "      <td>1</td>\n",
       "    </tr>\n",
       "    <tr>\n",
       "      <th>...</th>\n",
       "      <td>...</td>\n",
       "      <td>...</td>\n",
       "      <td>...</td>\n",
       "      <td>...</td>\n",
       "      <td>...</td>\n",
       "      <td>...</td>\n",
       "      <td>...</td>\n",
       "      <td>...</td>\n",
       "      <td>...</td>\n",
       "      <td>...</td>\n",
       "    </tr>\n",
       "    <tr>\n",
       "      <th>136512</th>\n",
       "      <td>SN-P10001</td>\n",
       "      <td>2023-05-16 14:47:00</td>\n",
       "      <td>374.40</td>\n",
       "      <td>72.82</td>\n",
       "      <td>28.49</td>\n",
       "      <td>2</td>\n",
       "      <td>1.83</td>\n",
       "      <td>2.07</td>\n",
       "      <td>0.99</td>\n",
       "      <td>5</td>\n",
       "    </tr>\n",
       "    <tr>\n",
       "      <th>136608</th>\n",
       "      <td>SN-P10001</td>\n",
       "      <td>2023-05-16 14:48:00</td>\n",
       "      <td>374.47</td>\n",
       "      <td>72.73</td>\n",
       "      <td>28.44</td>\n",
       "      <td>2</td>\n",
       "      <td>1.83</td>\n",
       "      <td>1.55</td>\n",
       "      <td>0.99</td>\n",
       "      <td>5</td>\n",
       "    </tr>\n",
       "    <tr>\n",
       "      <th>136704</th>\n",
       "      <td>SN-P10001</td>\n",
       "      <td>2023-05-16 14:49:00</td>\n",
       "      <td>374.54</td>\n",
       "      <td>72.76</td>\n",
       "      <td>28.34</td>\n",
       "      <td>2</td>\n",
       "      <td>1.83</td>\n",
       "      <td>1.04</td>\n",
       "      <td>0.99</td>\n",
       "      <td>5</td>\n",
       "    </tr>\n",
       "    <tr>\n",
       "      <th>136800</th>\n",
       "      <td>SN-P10001</td>\n",
       "      <td>2023-05-16 14:50:00</td>\n",
       "      <td>374.14</td>\n",
       "      <td>72.65</td>\n",
       "      <td>28.81</td>\n",
       "      <td>2</td>\n",
       "      <td>1.83</td>\n",
       "      <td>0.52</td>\n",
       "      <td>0.99</td>\n",
       "      <td>5</td>\n",
       "    </tr>\n",
       "    <tr>\n",
       "      <th>136896</th>\n",
       "      <td>SN-P10001</td>\n",
       "      <td>2023-05-16 14:51:00</td>\n",
       "      <td>381.91</td>\n",
       "      <td>72.75</td>\n",
       "      <td>18.39</td>\n",
       "      <td>2</td>\n",
       "      <td>1.83</td>\n",
       "      <td>0.00</td>\n",
       "      <td>0.99</td>\n",
       "      <td>5</td>\n",
       "    </tr>\n",
       "  </tbody>\n",
       "</table>\n",
       "<p>1427 rows × 10 columns</p>\n",
       "</div>"
      ],
      "text/plain": [
       "            BSM-p            Datetime  Voltage-p  Current  Temperature-p  \\\n",
       "0       SN-P10001 2023-04-12 19:00:00     381.83   145.25          15.82   \n",
       "96      SN-P10001 2023-04-12 19:01:00     389.84   150.77          15.63   \n",
       "192     SN-P10001 2023-04-12 19:02:00     389.84   150.74          15.62   \n",
       "288     SN-P10001 2023-04-12 19:03:00     389.83   150.66          15.62   \n",
       "384     SN-P10001 2023-04-12 19:04:00     389.84   150.71          15.61   \n",
       "...           ...                 ...        ...      ...            ...   \n",
       "136512  SN-P10001 2023-05-16 14:47:00     374.40    72.82          28.49   \n",
       "136608  SN-P10001 2023-05-16 14:48:00     374.47    72.73          28.44   \n",
       "136704  SN-P10001 2023-05-16 14:49:00     374.54    72.76          28.34   \n",
       "136800  SN-P10001 2023-05-16 14:50:00     374.14    72.65          28.81   \n",
       "136896  SN-P10001 2023-05-16 14:51:00     381.91    72.75          18.39   \n",
       "\n",
       "        State  Capacity  SOC  SOH  Cycles  \n",
       "0           1       NaN 0.00  NaN       1  \n",
       "96          1       NaN 0.13  NaN       1  \n",
       "192         1       NaN 0.25  NaN       1  \n",
       "288         1       NaN 0.38  NaN       1  \n",
       "384         1       NaN 0.51  NaN       1  \n",
       "...       ...       ...  ...  ...     ...  \n",
       "136512      2      1.83 2.07 0.99       5  \n",
       "136608      2      1.83 1.55 0.99       5  \n",
       "136704      2      1.83 1.04 0.99       5  \n",
       "136800      2      1.83 0.52 0.99       5  \n",
       "136896      2      1.83 0.00 0.99       5  \n",
       "\n",
       "[1427 rows x 10 columns]"
      ]
     },
     "execution_count": 9,
     "metadata": {},
     "output_type": "execute_result"
    }
   ],
   "source": [
    "fuel_cells_df"
   ]
  },
  {
   "cell_type": "markdown",
   "id": "db026914-f8cd-46f3-8948-78da86154a7d",
   "metadata": {},
   "source": [
    "## 1. 급속, 완속 충전 횟수\n",
    "- 충전 전류 임계값을 임의로 설정\n",
    "- 급속 충전: 전류가 일정 값(예: 100A) 이상일 때\n",
    "- 완속 충전: 전류가 일정 값(예: 100A) 미만일 때"
   ]
  },
  {
   "cell_type": "code",
   "execution_count": 10,
   "id": "4fe1867a-c333-48e7-adef-208e5cb0aaed",
   "metadata": {},
   "outputs": [],
   "source": [
    "# 충전 상태 데이터 추출\n",
    "charging_data = fuel_cells_df[fuel_cells_df['State'] == 1]"
   ]
  },
  {
   "cell_type": "code",
   "execution_count": 11,
   "id": "55e988fa-8b18-4ebb-89b6-ed094a1cf1d3",
   "metadata": {},
   "outputs": [],
   "source": [
    "# 각 사이클의 평균 전류 계산\n",
    "average_current_per_cycle = charging_data.groupby('Cycles')['Current'].mean()"
   ]
  },
  {
   "cell_type": "code",
   "execution_count": 12,
   "id": "5eabf853-6859-4929-b638-0222478f2705",
   "metadata": {},
   "outputs": [],
   "source": [
    "# 전류 임계값 설정 (예: 50A)\n",
    "current_threshold = 150"
   ]
  },
  {
   "cell_type": "code",
   "execution_count": 13,
   "id": "d7eed986-48a6-4a10-b7bf-1e85726d4f03",
   "metadata": {},
   "outputs": [],
   "source": [
    "# 급속, 완속 충전 구분 및 횟수 계산\n",
    "fast_charging_count = (average_current_per_cycle >= current_threshold).sum()\n",
    "slow_charging_count = (average_current_per_cycle < current_threshold).sum()"
   ]
  },
  {
   "cell_type": "code",
   "execution_count": 14,
   "id": "ca282d5c-144c-4a8a-9a52-75f2528951e0",
   "metadata": {},
   "outputs": [
    {
     "name": "stdout",
     "output_type": "stream",
     "text": [
      "급속 충전 횟수: 2\n",
      "완속 충전 횟수: 3\n"
     ]
    }
   ],
   "source": [
    "print(\"급속 충전 횟수:\", fast_charging_count)\n",
    "print(\"완속 충전 횟수:\", slow_charging_count)"
   ]
  },
  {
   "cell_type": "markdown",
   "id": "e4944dbb-8c4d-48f1-96b3-3735e9ce7c95",
   "metadata": {},
   "source": [
    "## 2. 누적 충전량, 방전량\n",
    "- 누적 충전량과 누적 방전량을 계산하기 위해 각 상태에 대한 전류 값을 모두\n",
    "- i3 배터리 용량 : 120Ah(42.2kWh)"
   ]
  },
  {
   "cell_type": "code",
   "execution_count": 15,
   "id": "3aeafe92-c19c-491a-9c30-f1f01fb2f560",
   "metadata": {},
   "outputs": [],
   "source": [
    "# 누적 충전량, 누적 방전량 계산\n",
    "total_charge = fuel_cells_df[fuel_cells_df['State'] == 1]['Current'].sum() / 60\n",
    "total_discharge = fuel_cells_df[fuel_cells_df['State'] == 2]['Current'].sum() / 70"
   ]
  },
  {
   "cell_type": "code",
   "execution_count": 16,
   "id": "76db1f3f-1649-47ca-9b86-0a6d884cacdc",
   "metadata": {},
   "outputs": [],
   "source": [
    "total_charge = total_charge.round(2)\n",
    "total_discharge = total_discharge.round(2)"
   ]
  },
  {
   "cell_type": "code",
   "execution_count": 17,
   "id": "e76a7d01-62ca-44ca-88f5-0a594edac759",
   "metadata": {},
   "outputs": [
    {
     "name": "stdout",
     "output_type": "stream",
     "text": [
      "누적 충전량 (Ah): 1121.96\n",
      "누적 방전량 (Ah): 1110.55\n"
     ]
    }
   ],
   "source": [
    "print(\"누적 충전량 (Ah):\", total_charge)\n",
    "print(\"누적 방전량 (Ah):\", total_discharge)"
   ]
  },
  {
   "cell_type": "markdown",
   "id": "106a2327-d20b-42a5-8e78-06ff80c40dd1",
   "metadata": {},
   "source": [
    "## 3. 누적 동작시간\n",
    "-  'Datetime' 열의 최소값과 최대값의 차이를 계산"
   ]
  },
  {
   "cell_type": "code",
   "execution_count": 18,
   "id": "7790c12d-0abd-49f2-adde-b4f140bd74a1",
   "metadata": {},
   "outputs": [],
   "source": [
    "# 충전 상태와 방전 상태를 구분하여 시간 인덱스 차이 계산\n",
    "state_diff = fuel_cells_df[['State', 'Datetime']].diff().dropna()\n",
    "state_diff['State'] = state_diff['State'].abs()\n",
    "\n",
    "# 충전 상태의 동작 시간 계산\n",
    "charging_time_diff = state_diff[(state_diff['State'] == 1) | (fuel_cells_df['State'] == 1)]\n",
    "charging_time = charging_time_diff['Datetime'].sum()\n",
    "\n",
    "# 방전 상태의 동작 시간 계산\n",
    "discharging_time_diff = state_diff[(state_diff['State'] == 1) | (fuel_cells_df['State'] == 2)]\n",
    "discharging_time = discharging_time_diff['Datetime'].sum()"
   ]
  },
  {
   "cell_type": "code",
   "execution_count": 19,
   "id": "16958897-0977-4837-b8e1-7c9b65d86f37",
   "metadata": {},
   "outputs": [
    {
     "name": "stdout",
     "output_type": "stream",
     "text": [
      "충전 동작 시간: 5 days 13:09:00\n",
      "방전 동작 시간: 3 days 17:18:00\n"
     ]
    }
   ],
   "source": [
    "print(\"충전 동작 시간:\", charging_time)\n",
    "print(\"방전 동작 시간:\", discharging_time)"
   ]
  },
  {
   "cell_type": "code",
   "execution_count": 20,
   "id": "6aa22503-b509-4565-b18d-e31e774ad9ac",
   "metadata": {},
   "outputs": [
    {
     "name": "stdout",
     "output_type": "stream",
     "text": [
      "총 동작 시간: 9 days 06:27:00\n"
     ]
    }
   ],
   "source": [
    "operation_time = charging_time + discharging_time\n",
    "print(\"총 동작 시간:\",operation_time)"
   ]
  },
  {
   "cell_type": "markdown",
   "id": "f2c2100e-efca-4a49-9103-c6e57a1f83cc",
   "metadata": {},
   "source": [
    "## 4. 누적 싸이클"
   ]
  },
  {
   "cell_type": "code",
   "execution_count": 21,
   "id": "31b9e958-d2b0-4c5e-84fa-e2974a7a870c",
   "metadata": {},
   "outputs": [
    {
     "name": "stdout",
     "output_type": "stream",
     "text": [
      "누적 싸이클: 5\n"
     ]
    }
   ],
   "source": [
    "# 누적 싸이클 계산\n",
    "total_cycles = fuel_cells_df['Cycles'].max()\n",
    "\n",
    "print(\"누적 싸이클:\", total_cycles)"
   ]
  },
  {
   "cell_type": "markdown",
   "id": "2a223335-0977-4726-833b-86acf5f00687",
   "metadata": {},
   "source": [
    "## 5. 배터리 종합 점수\n",
    "- 운전 습관 점수: 충전/방전 횟수, 급속/완속 충전 횟수를 반영\n",
    "- 배터리 수명 점수: 누적 싸이클과 SOH(상태)를 반영\n",
    "- 각 점수를 0에서 100 사이로 정규화하고, 가중치를 적용하여 최종 점수를 계산"
   ]
  },
  {
   "cell_type": "code",
   "execution_count": 22,
   "id": "c848dc9a-df95-4292-a51c-4ae8769409b8",
   "metadata": {},
   "outputs": [],
   "source": [
    "# 운전 습관 점수 계산 (예시: 급속 충전 횟수에 더 낮은 가중치를 부여)\n",
    "driving_habit_score = (slow_charging_count / (fast_charging_count * 0.7 + slow_charging_count)) * 100"
   ]
  },
  {
   "cell_type": "code",
   "execution_count": 23,
   "id": "005a214b-920b-4b2a-81da-b17d6c6ef74c",
   "metadata": {},
   "outputs": [],
   "source": [
    "# 배터리 수명 점수 계산 (예시: 높은 SOH와 낮은 누적 싸이클에 더 높은 가중치 부여)\n",
    "battery_life_score = ((fuel_cells_df['SOH'].max() / 100) * 0.7 + (1 - total_cycles / 10000) * 0.3) * 100"
   ]
  },
  {
   "cell_type": "code",
   "execution_count": 24,
   "id": "9893ffad-3b11-4691-bb1d-c5d74eb8a806",
   "metadata": {},
   "outputs": [],
   "source": [
    "# 종합 점수 계산 (예시: 운전 습관 점수와 배터리 수명 점수의 평균)\n",
    "overall_score = (driving_habit_score + battery_life_score) / 2"
   ]
  },
  {
   "cell_type": "code",
   "execution_count": 25,
   "id": "468faac1-186b-4353-9c24-dff2fdc04b6f",
   "metadata": {},
   "outputs": [],
   "source": [
    "driving_habit_score = driving_habit_score.round(2)\n",
    "battery_life_score = round(battery_life_score, 2)\n",
    "overall_score = overall_score.round(2)"
   ]
  },
  {
   "cell_type": "code",
   "execution_count": 26,
   "id": "a7ff11c1-823c-4e97-8fb1-3c9414c3d76a",
   "metadata": {},
   "outputs": [
    {
     "name": "stdout",
     "output_type": "stream",
     "text": [
      "운전 습관 점수: 68.18\n",
      "배터리 수명 점수: 30.69\n",
      "배터리 종합 점수: 49.43\n"
     ]
    }
   ],
   "source": [
    "print(\"운전 습관 점수:\", driving_habit_score)\n",
    "print(\"배터리 수명 점수:\", battery_life_score)\n",
    "print(\"배터리 종합 점수:\", overall_score)"
   ]
  },
  {
   "cell_type": "markdown",
   "id": "0bd2b579-91d1-4e85-988c-f34b0997cebe",
   "metadata": {},
   "source": [
    "## 6. 친환경 점수 계산\n",
    "1. 전기차의 총 주행 거리\n",
    "2. 내연기관 차량의 연비 (단위: km/l 또는 mpg)\n",
    "3. 전기의 가격 (단위: KRW/kWh 또는 USD/kWh)\n",
    "4. 휘발유의 가격 (단위: KRW/l 또는 USD/gal)\n",
    "5. 내연기관 차량 1리터(또는 1갤런) 당 발생하는 탄소 배출량 (단위: gCO2/l 또는 gCO2/gal)\n",
    "\n",
    "- 위 정보를 이용해 전기차와 내연기관 차량의 연료 비용과 탄소 절감량을 계산 가능\n",
    "\n",
    "- 전기차의 총 주행 거리를 계산해\n",
    "- 이를 위해 fuel_cells_df 데이터 프레임에서 'SOC' (State of Charge) 컬럼을 사용\n",
    "- 전기차의 주행 거리를 구하기 위해 배터리의 총 소비 에너지를 계산한 다음, 주어진 연비(5.5km/kWh)로 나눔"
   ]
  },
  {
   "cell_type": "markdown",
   "id": "6a3fe2f1-38ed-4316-a12a-dde54135f403",
   "metadata": {},
   "source": [
    "### 6-1. 탄소 절감 효과"
   ]
  },
  {
   "cell_type": "code",
   "execution_count": 27,
   "id": "747db052-4fbc-4068-857a-614befc438a2",
   "metadata": {},
   "outputs": [],
   "source": [
    "# 한국 전기 생산 탄소 배출량 (2021년 기준, 대략적인 값)\n",
    "emission_factor = 450  # gCO₂/kWh"
   ]
  },
  {
   "cell_type": "code",
   "execution_count": 28,
   "id": "f3e56db2-0a58-4e67-ae94-4a4b147bbbf3",
   "metadata": {},
   "outputs": [
    {
     "data": {
      "text/plain": [
       "1110.55"
      ]
     },
     "execution_count": 28,
     "metadata": {},
     "output_type": "execute_result"
    }
   ],
   "source": [
    "total_discharge"
   ]
  },
  {
   "cell_type": "code",
   "execution_count": 29,
   "id": "d97fe253-0815-48f9-908e-3b546f4b54b0",
   "metadata": {},
   "outputs": [],
   "source": [
    "# 누적 방전량을 Wh로 변환하고, 전기의 탄소 배출량과 곱하여 전기차의 탄소 발생량 산정\n",
    "total_discharge_wh = total_discharge * 60  # Wh\n",
    "\n",
    "# BMW 120Ah(42.2kWh)\n",
    "total_discharge_wh = 42200\n",
    "total_ev_emission = total_discharge_wh * emission_factor / 1000  # gCO₂"
   ]
  },
  {
   "cell_type": "code",
   "execution_count": 30,
   "id": "c0ff13de-1e5f-4f23-a27a-fe128612d8b2",
   "metadata": {},
   "outputs": [],
   "source": [
    "# 가솔린 차량 탄소 발생량 계산\n",
    "gasoline_fuel_economy = 10  # L/100km\n",
    "gasoline_emission_factor = 2392  # gCO₂/L (가솔린의 탄소 배출량)"
   ]
  },
  {
   "cell_type": "code",
   "execution_count": 31,
   "id": "5f6b636d-9662-4ecb-92b2-b9270ee14fc5",
   "metadata": {},
   "outputs": [],
   "source": [
    "# 전기차의 에너지 효율 (kWh/km)\n",
    "energy_efficiency = 150\n",
    "\n",
    "total_distance = total_discharge_wh / energy_efficiency  # km\n",
    "total_gasoline_emission = (total_distance / 100) * gasoline_fuel_economy * gasoline_emission_factor  # gCO₂"
   ]
  },
  {
   "cell_type": "code",
   "execution_count": 32,
   "id": "5de49a74-7b23-4028-9036-38fb81d8ca91",
   "metadata": {},
   "outputs": [],
   "source": [
    "# 실제 탄소 절감 수치\n",
    "carbon_savings = total_gasoline_emission - total_ev_emission  # gCO₂"
   ]
  },
  {
   "cell_type": "code",
   "execution_count": 33,
   "id": "1c56fb97-1e4f-4546-87a6-0bd16b38881e",
   "metadata": {},
   "outputs": [],
   "source": [
    "total_ev_emission = round(total_ev_emission, 2)\n",
    "total_gasoline_emission = round(total_gasoline_emission, 2)\n",
    "carbon_savings = round(carbon_savings, 2)"
   ]
  },
  {
   "cell_type": "code",
   "execution_count": 34,
   "id": "c2a6b785-1d5d-4034-9117-f819feac6cf5",
   "metadata": {},
   "outputs": [
    {
     "name": "stdout",
     "output_type": "stream",
     "text": [
      "전기차 탄소 발생량 (gCO₂): 18990.0\n",
      "가솔린 차량 탄소 발생량 (gCO₂): 67294.93\n",
      "탄소 절감 효과 (gCO₂): 48304.93\n"
     ]
    }
   ],
   "source": [
    "print(\"전기차 탄소 발생량 (gCO₂):\", total_ev_emission)\n",
    "print(\"가솔린 차량 탄소 발생량 (gCO₂):\", total_gasoline_emission)\n",
    "print(\"탄소 절감 효과 (gCO₂):\", carbon_savings)"
   ]
  },
  {
   "cell_type": "markdown",
   "id": "933d2062-ad45-43ac-8136-ee4d430281f3",
   "metadata": {},
   "source": [
    "### 6-2. 연료 비용 절감 효과 계산"
   ]
  },
  {
   "cell_type": "code",
   "execution_count": 35,
   "id": "9b2eb73d-57ea-43da-8ecf-3c2cd78bc575",
   "metadata": {},
   "outputs": [],
   "source": [
    "# 가격\n",
    "electricity_price = 0.12  # 전기 가격 (단위: KRW/kWh 또는 USD/kWh)\n",
    "gasoline_price = 1.30  # 가솔린 가격 (단위: KRW/l 또는 USD/gal)"
   ]
  },
  {
   "cell_type": "code",
   "execution_count": 36,
   "id": "5f9975ba-664b-4472-83da-0b863a9b98c6",
   "metadata": {},
   "outputs": [],
   "source": [
    "# 주행거리 산정\n",
    "total_drive = 5.4 * total_discharge_wh / 100"
   ]
  },
  {
   "cell_type": "code",
   "execution_count": 37,
   "id": "aa996291-60e9-4b55-bebd-66cde53c97f9",
   "metadata": {},
   "outputs": [
    {
     "data": {
      "text/plain": [
       "2278.8"
      ]
     },
     "execution_count": 37,
     "metadata": {},
     "output_type": "execute_result"
    }
   ],
   "source": [
    "total_drive"
   ]
  },
  {
   "cell_type": "code",
   "execution_count": 38,
   "id": "11f3f42f-7d28-40b6-8185-646d667124b5",
   "metadata": {},
   "outputs": [],
   "source": [
    "# 각 연료 소비량\n",
    "total_gasoline_consumed = total_drive / 9.7\n",
    "total_electricity_consumed = total_discharge"
   ]
  },
  {
   "cell_type": "code",
   "execution_count": 39,
   "id": "57c29fbd-c9b9-4144-8ec8-be07409e7ca8",
   "metadata": {},
   "outputs": [],
   "source": [
    "# 연료 비용 계산\n",
    "gasoline_car_fuel_cost = total_gasoline_consumed * gasoline_price\n",
    "electric_car_fuel_cost = total_electricity_consumed * electricity_price"
   ]
  },
  {
   "cell_type": "code",
   "execution_count": 40,
   "id": "a0427a20-b57a-4064-9b26-7bbcc43d2575",
   "metadata": {},
   "outputs": [],
   "source": [
    "# 연료 비용 절감\n",
    "fuel_cost_saving = gasoline_car_fuel_cost - electric_car_fuel_cost"
   ]
  },
  {
   "cell_type": "code",
   "execution_count": 41,
   "id": "00bf82a5-929d-4fd5-908d-bb1e518e83e0",
   "metadata": {},
   "outputs": [],
   "source": [
    "fuel_cost_saving = round(fuel_cost_saving, -1) * 1000"
   ]
  },
  {
   "cell_type": "code",
   "execution_count": 42,
   "id": "84d181da-74e4-43a0-b4ee-1f46a15e1d3b",
   "metadata": {},
   "outputs": [
    {
     "name": "stdout",
     "output_type": "stream",
     "text": [
      "연료 절감 효과(원): 170000.0\n"
     ]
    }
   ],
   "source": [
    "print(\"연료 절감 효과(원):\", fuel_cost_saving)"
   ]
  },
  {
   "cell_type": "markdown",
   "id": "654f0041-a83e-4e8a-ad48-966a119e0aad",
   "metadata": {},
   "source": [
    "### 6-3. 나무 심기 효과 계산"
   ]
  },
  {
   "cell_type": "code",
   "execution_count": 43,
   "id": "9cb62a8b-77b7-4e3c-9a78-630c6d813505",
   "metadata": {},
   "outputs": [],
   "source": [
    "# 30년 소나무 1년에 흡수하는 이산화탄소 양 (단위: kgCO2/년)\n",
    "co2_absorption_per_tree = 6.6"
   ]
  },
  {
   "cell_type": "code",
   "execution_count": 44,
   "id": "91e53e7d-8320-4c95-b903-89402fdba7df",
   "metadata": {},
   "outputs": [],
   "source": [
    "# 나무 심은 효과 계산\n",
    "trees_planted_effect = carbon_savings / co2_absorption_per_tree / 1000"
   ]
  },
  {
   "cell_type": "code",
   "execution_count": 45,
   "id": "5da55b21-3780-4c6f-861d-41444b7e52f1",
   "metadata": {},
   "outputs": [],
   "source": [
    "trees_planted_effect = round(trees_planted_effect, 0) "
   ]
  },
  {
   "cell_type": "code",
   "execution_count": 46,
   "id": "e2afaa4c-9d50-4e49-b542-f475f815f288",
   "metadata": {},
   "outputs": [
    {
     "name": "stdout",
     "output_type": "stream",
     "text": [
      "소나무 심은 효과: 7.0\n"
     ]
    }
   ],
   "source": [
    "print(\"소나무 심은 효과:\", trees_planted_effect)"
   ]
  },
  {
   "cell_type": "markdown",
   "id": "4bcbe012-a4a2-4c2e-89e6-f148ce40a487",
   "metadata": {},
   "source": [
    "## 7. 종합"
   ]
  },
  {
   "cell_type": "code",
   "execution_count": 48,
   "id": "0e34da50-f765-4cf3-a3c1-085a93211aa1",
   "metadata": {},
   "outputs": [
    {
     "name": "stdout",
     "output_type": "stream",
     "text": [
      "[BMW i3 5cycle 주행 통계 결과]\n",
      "0. 기간 : 2023-04-12 19:00:00 ~ 2023-05-20 14:51:00\n",
      "1. 급속 충전 :  2\n",
      "2. 완속 충전 :  3\n",
      "3. 누적 충전 :  1121.96\n",
      "4. 누적 방전 :  1110.55\n",
      "5. 누적 동작 :  9 days 06:27:00\n",
      "6. 누적 싸이클 :  5\n",
      "7. 운전 습관 점수 :  68.18\n",
      "8. 배터리 수명 점수 :  30.69\n",
      "9. 배터리 종합 점수 :  49.43\n",
      "10. 연료 비용 절감(원) :  170000.0\n",
      "11. 탄소 절감 효과(gCO₂) :  48304.93\n",
      "12. 나무 심은 효과(그루) :  7.0\n"
     ]
    }
   ],
   "source": [
    "# 결과 출력\n",
    "print(\"[BMW i3 5cycle 주행 통계 결과]\")\n",
    "print(\"0. 기간 : 2023-04-12 19:00:00 ~ 2023-05-16 14:51:00\")\n",
    "print(\"1. 급속 충전 : \", fast_charging_count)\n",
    "print(\"2. 완속 충전 : \", slow_charging_count)\n",
    "print(\"3. 누적 충전 : \", total_charge)\n",
    "print(\"4. 누적 방전 : \", total_discharge)\n",
    "print(\"5. 누적 동작 : \", operation_time)\n",
    "print(\"6. 누적 싸이클 : \", total_cycles)\n",
    "print(\"7. 운전 습관 점수 : \", driving_habit_score)\n",
    "print(\"8. 배터리 수명 점수 : \", battery_life_score)\n",
    "print(\"9. 배터리 종합 점수 : \", overall_score)\n",
    "print(\"10. 연료 비용 절감(원) : \", fuel_cost_saving)\n",
    "print(\"11. 탄소 절감 효과(gCO₂) : \", carbon_savings)\n",
    "print(\"12. 나무 심은 효과(그루) : \", trees_planted_effect)"
   ]
  },
  {
   "cell_type": "code",
   "execution_count": null,
   "id": "baaea0e3-7ae6-422c-9c26-af6d2f155ee4",
   "metadata": {},
   "outputs": [],
   "source": []
  }
 ],
 "metadata": {
  "kernelspec": {
   "display_name": "Python 3 (ipykernel)",
   "language": "python",
   "name": "python3"
  },
  "language_info": {
   "codemirror_mode": {
    "name": "ipython",
    "version": 3
   },
   "file_extension": ".py",
   "mimetype": "text/x-python",
   "name": "python",
   "nbconvert_exporter": "python",
   "pygments_lexer": "ipython3",
   "version": "3.8.16"
  }
 },
 "nbformat": 4,
 "nbformat_minor": 5
}
