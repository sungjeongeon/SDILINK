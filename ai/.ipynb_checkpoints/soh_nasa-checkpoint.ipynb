{
 "cells": [
  {
   "cell_type": "code",
   "execution_count": 1,
   "id": "ce80bc65-bac7-4a28-8859-74c430907ce8",
   "metadata": {},
   "outputs": [],
   "source": [
    "#%config Completer.use_jedi = False\n",
    "#%matplotlib inline"
   ]
  },
  {
   "cell_type": "markdown",
   "id": "38ddf759-c56e-43b6-945d-d41212e78e21",
   "metadata": {
    "tags": []
   },
   "source": [
    "# 1. Tensorflow 설치 및 데이터 사전 준비"
   ]
  },
  {
   "cell_type": "code",
   "execution_count": 2,
   "id": "fc48af6e-5ee9-451f-89be-7a760928293e",
   "metadata": {},
   "outputs": [],
   "source": [
    "#pip install tensorflow\n",
    "#pip show tensorflow\n",
    "#wget -cq https://ti.arc.nasa.gov/c/5 -O nasa.zip\n",
    "#unzip -qqo naza.zip -d battery_data"
   ]
  },
  {
   "cell_type": "markdown",
   "id": "52f4c109-b445-481a-9638-6509d4d638ee",
   "metadata": {
    "tags": []
   },
   "source": [
    "# 2. 데이터 확인"
   ]
  },
  {
   "cell_type": "markdown",
   "id": "e1746e0e-4d0b-42ea-9271-49e9bb049a6d",
   "metadata": {
    "tags": []
   },
   "source": [
    "## 2-1. 필요 라이브러리 설치"
   ]
  },
  {
   "cell_type": "code",
   "execution_count": 3,
   "id": "bdd25f06-c04c-4701-b6b9-b2db057b633c",
   "metadata": {},
   "outputs": [],
   "source": [
    "import os\n",
    "import datetime\n",
    "import numpy as np\n",
    "import pandas as pd\n",
    "from scipy.io import loadmat\n",
    "from sklearn.preprocessing import MinMaxScaler\n",
    "from sklearn.metrics import mean_squared_error\n",
    "from sklearn import metrics\n",
    "import matplotlib.pyplot as plt\n",
    "import seaborn as sns"
   ]
  },
  {
   "cell_type": "code",
   "execution_count": 4,
   "id": "76a0aa77-f820-42d4-bf57-6ae72d7ad27d",
   "metadata": {},
   "outputs": [
    {
     "name": "stdout",
     "output_type": "stream",
     "text": [
      "C:\\Users\\SSAFY\\b4u\n"
     ]
    }
   ],
   "source": [
    "print(os.getcwd())"
   ]
  },
  {
   "cell_type": "markdown",
   "id": "235d2919-cf08-4be3-892a-857f7b209d35",
   "metadata": {
    "tags": []
   },
   "source": [
    "## 2-2. 데이터 로드 함수"
   ]
  },
  {
   "cell_type": "code",
   "execution_count": 5,
   "id": "9af33795-f64a-48aa-a7c1-ee63a92a4742",
   "metadata": {},
   "outputs": [],
   "source": [
    "def load_data(nm,battery): # Example of input load_data('B0006.mat','B0006')\n",
    "    mat = loadmat(nm)\n",
    "    #print('Total data in dataset: ', len(mat[battery][0, 0]['cycle'][0]))\n",
    "    counter = 0\n",
    "    dataset = []\n",
    "    capacity_data = []\n",
    "  \n",
    "    for i in range(len(mat[battery][0, 0]['cycle'][0])):\n",
    "        row = mat[battery][0, 0]['cycle'][0, i]\n",
    "        if row['type'][0] == 'discharge' :\n",
    "            ambient_temperature = row['ambient_temperature'][0][0]\n",
    "            date_time = datetime.datetime(int(row['time'][0][0]),\n",
    "                                   int(row['time'][0][1]),\n",
    "                                   int(row['time'][0][2]),\n",
    "                                   int(row['time'][0][3]),\n",
    "                                   int(row['time'][0][4])) + datetime.timedelta(seconds=int(row['time'][0][5]))\n",
    "            data = row['data']\n",
    "            capacity = data[0][0]['Capacity'][0][0]\n",
    "            for j in range(len(data[0][0]['Voltage_measured'][0])):\n",
    "                voltage_measured = data[0][0]['Voltage_measured'][0][j]\n",
    "                current_measured = data[0][0]['Current_measured'][0][j]\n",
    "                temperature_measured = data[0][0]['Temperature_measured'][0][j]\n",
    "                current_load = data[0][0]['Current_load'][0][j]\n",
    "                voltage_load = data[0][0]['Voltage_load'][0][j]\n",
    "                time = data[0][0]['Time'][0][j]\n",
    "                dataset.append([counter + 1, ambient_temperature, date_time, capacity,\n",
    "                                voltage_measured, current_measured,\n",
    "                                temperature_measured, current_load,\n",
    "                                voltage_load, time])\n",
    "                capacity_data.append([counter + 1, ambient_temperature, date_time, capacity])\n",
    "                counter = counter + 1\n",
    "#     print(dataset[0])\n",
    "    return [pd.DataFrame(data=dataset,\n",
    "                       columns=['cycle', 'ambient_temperature', 'datetime',\n",
    "                                'capacity', 'voltage_measured',\n",
    "                                'current_measured', 'temperature_measured',\n",
    "                                'current_load', 'voltage_load', 'time']),\n",
    "          pd.DataFrame(data=capacity_data,\n",
    "                       columns=['cycle', 'ambient_temperature', 'datetime',\n",
    "                                'capacity'])]"
   ]
  },
  {
   "cell_type": "code",
   "execution_count": 6,
   "id": "8e3fbd63-5c8c-4424-b813-7d052ad569d5",
   "metadata": {},
   "outputs": [],
   "source": [
    "dataset, capacity = load_data('./data/nasa_battery/B0005.mat','B0005')"
   ]
  },
  {
   "cell_type": "markdown",
   "id": "066fe3b3-7343-4d8b-9ab6-42781ac14fe9",
   "metadata": {
    "tags": []
   },
   "source": [
    "## 2-3.Discharge 데이터 확인"
   ]
  },
  {
   "cell_type": "code",
   "execution_count": 7,
   "id": "9456e2ca-01a4-40a7-a235-4d8749447553",
   "metadata": {},
   "outputs": [],
   "source": [
    "pd.set_option('display.max_columns', 100)"
   ]
  },
  {
   "cell_type": "code",
   "execution_count": 8,
   "id": "9f523ca6-901b-4716-9436-179a026975c6",
   "metadata": {
    "tags": []
   },
   "outputs": [
    {
     "ename": "NameError",
     "evalue": "name 'dataset' is not defined",
     "output_type": "error",
     "traceback": [
      "\u001b[1;31m---------------------------------------------------------------------------\u001b[0m",
      "\u001b[1;31mNameError\u001b[0m                                 Traceback (most recent call last)",
      "Cell \u001b[1;32mIn[8], line 1\u001b[0m\n\u001b[1;32m----> 1\u001b[0m \u001b[43mdataset\u001b[49m\u001b[38;5;241m.\u001b[39mhead(\u001b[38;5;241m200\u001b[39m)\n",
      "\u001b[1;31mNameError\u001b[0m: name 'dataset' is not defined"
     ]
    }
   ],
   "source": [
    "dataset.head(200)"
   ]
  },
  {
   "cell_type": "code",
   "execution_count": null,
   "id": "bedf7c48-51e6-4a4b-abf3-6437161f2ab0",
   "metadata": {
    "tags": []
   },
   "outputs": [],
   "source": [
    "capacity.head(200)"
   ]
  },
  {
   "cell_type": "code",
   "execution_count": null,
   "id": "8b55e2fd-60fb-42cf-a5ca-317491ff2ed3",
   "metadata": {},
   "outputs": [],
   "source": [
    "dataset.describe()"
   ]
  },
  {
   "cell_type": "markdown",
   "id": "d0d3a4c0-e1b3-433a-a72e-1c2cd0a904b9",
   "metadata": {},
   "source": [
    "# 3. EDA 분석"
   ]
  },
  {
   "cell_type": "markdown",
   "id": "0e35a0dd-1163-463d-9453-d157cf74d923",
   "metadata": {},
   "source": [
    "### 3-1. Cycle, Capacity 그래프"
   ]
  },
  {
   "cell_type": "code",
   "execution_count": null,
   "id": "6ff9859f-a2e7-49c9-82a5-5dd0e953df2b",
   "metadata": {},
   "outputs": [],
   "source": [
    "plot_df = capacity.loc[(capacity['cycle']>=1),['cycle','capacity']]\n",
    "sns.set_style(\"darkgrid\")\n",
    "plt.figure(figsize=(12, 8))\n",
    "plt.plot(plot_df['cycle'], plot_df['capacity'])\n",
    "#Draw threshold\n",
    "plt.plot([0.,len(capacity)], [1.4, 1.4])\n",
    "plt.ylabel('Capacity')\n",
    "# make x-axis ticks legible\n",
    "adf = plt.gca().get_xaxis().get_major_formatter()\n",
    "plt.xlabel('cycle')\n",
    "plt.title('Discharge B0005')"
   ]
  },
  {
   "cell_type": "markdown",
   "id": "b60f1af0-9e86-4254-99fa-18cc947fb1b8",
   "metadata": {},
   "source": [
    "### 3-2. Cycle, SoH 그래프"
   ]
  },
  {
   "cell_type": "code",
   "execution_count": null,
   "id": "dd22d81e-81c7-4ea0-95d7-0c7992ca0c43",
   "metadata": {},
   "outputs": [],
   "source": [
    "# 데이터 SoH(현재 수용량 / 최초 수용량)\n",
    "attrib=['cycle', 'datetime', 'capacity']\n",
    "dis_ele = capacity[attrib]\n",
    "C = dis_ele['capacity'][0]\n",
    "for i in range(len(dis_ele)):\n",
    "    dis_ele['SoH']=(dis_ele['capacity'])/C\n",
    "print(dis_ele.head(5))"
   ]
  },
  {
   "cell_type": "code",
   "execution_count": null,
   "id": "5bfb1a45-446a-4900-af90-7f9827a34c6a",
   "metadata": {},
   "outputs": [],
   "source": [
    "plot_df = dis_ele.loc[(dis_ele['cycle']>=1),['cycle','SoH']]\n",
    "sns.set_style(\"white\")\n",
    "plt.figure(figsize=(8, 5))\n",
    "plt.plot(plot_df['cycle'], plot_df['SoH'])\n",
    "#Draw threshold\n",
    "plt.plot([0.,len(capacity)], [0.70, 0.70])\n",
    "plt.ylabel('SOH')\n",
    "# make x-axis ticks legible\n",
    "adf = plt.gca().get_xaxis().get_major_formatter()\n",
    "plt.xlabel('cycle')\n",
    "plt.title('Discharge B0005')"
   ]
  },
  {
   "cell_type": "markdown",
   "id": "7d2462f4-3e41-4cc3-bea1-45b69ac69f93",
   "metadata": {},
   "source": [
    "### 3-3. Train Dataset 생성"
   ]
  },
  {
   "cell_type": "code",
   "execution_count": null,
   "id": "7236f13e-693d-4838-979c-ddbf2e2c6c2b",
   "metadata": {},
   "outputs": [],
   "source": [
    "C = dataset['capacity'][0]\n",
    "soh = []\n",
    "for i in range(len(dataset)):\n",
    "    soh.append([dataset['capacity'][i] / C])\n",
    "soh = pd.DataFrame(data=soh, columns=['SoH'])\n",
    "\n",
    "attribs=['capacity', 'voltage_measured', 'current_measured',\n",
    "         'temperature_measured', 'current_load', 'voltage_load', 'time']\n",
    "train_dataset = dataset[attribs]"
   ]
  },
  {
   "cell_type": "code",
   "execution_count": null,
   "id": "079053ee-5700-4974-8377-e90fb79a022c",
   "metadata": {},
   "outputs": [],
   "source": [
    "sc = MinMaxScaler(feature_range=(0,1))\n",
    "train_dataset = sc.fit_transform(train_dataset)"
   ]
  },
  {
   "cell_type": "code",
   "execution_count": null,
   "id": "52b24cf7-ff47-4e49-aaf3-d1818f1fa34c",
   "metadata": {},
   "outputs": [],
   "source": [
    "print(train_dataset.shape)\n",
    "print(soh.shape)"
   ]
  },
  {
   "cell_type": "code",
   "execution_count": null,
   "id": "e12bad10-7ea3-4c7f-862c-49e1269a31e6",
   "metadata": {},
   "outputs": [],
   "source": [
    "import tensorflow as tf\n",
    "from tensorflow.keras.models import Sequential\n",
    "from tensorflow.keras.layers import Dense\n",
    "from tensorflow.keras.layers import Dropout\n",
    "from tensorflow.keras.layers import Flatten\n",
    "from tensorflow.keras.layers import LSTM\n",
    "from tensorflow.keras.optimizers import Adam"
   ]
  },
  {
   "cell_type": "code",
   "execution_count": null,
   "id": "f0d14923-2733-4d75-82a9-03ce1c7ea03c",
   "metadata": {},
   "outputs": [],
   "source": [
    "model = Sequential()\n",
    "model.add(Dense(8, activation='relu', input_dim=train_dataset.shape[1]))\n",
    "model.add(Dense(8, activation='relu'))\n",
    "model.add(Dense(8, activation='relu'))\n",
    "model.add(Dropout(rate=0.25))\n",
    "model.add(Dense(1))\n",
    "model.summary()\n",
    "model.compile(optimizer=Adam(beta_1=0.9, beta_2=0.999, epsilon=1e-08), loss='mean_absolute_error')"
   ]
  },
  {
   "cell_type": "code",
   "execution_count": null,
   "id": "f1c9d5eb-c1d3-4015-86eb-f1b9f9887209",
   "metadata": {},
   "outputs": [],
   "source": [
    "model.fit(x=train_dataset, y=soh.to_numpy(), batch_size=25, epochs=50)"
   ]
  },
  {
   "cell_type": "code",
   "execution_count": null,
   "id": "c0a1bffd-ceb6-4193-9281-11d4c7b62711",
   "metadata": {},
   "outputs": [],
   "source": [
    "dataset_val, capacity_val = load_data('B0006')\n",
    "attrib=['cycle', 'datetime', 'capacity']\n",
    "dis_ele = capacity_val[attrib]\n",
    "C = dis_ele['capacity'][0]\n",
    "for i in range(len(dis_ele)):\n",
    "    dis_ele['SoH']=(dis_ele['capacity']) / C\n",
    "print(dataset_val.head(5))\n",
    "print(dis_ele.head(5))"
   ]
  },
  {
   "cell_type": "code",
   "execution_count": null,
   "id": "3a1741cf-9158-4e39-83ff-9052f62e5ae8",
   "metadata": {},
   "outputs": [],
   "source": [
    "attrib=['capacity', 'voltage_measured', 'current_measured',\n",
    "        'temperature_measured', 'current_load', 'voltage_load', 'time']\n",
    "soh_pred = model.predict(sc.fit_transform(dataset_val[attrib]))\n",
    "print(soh_pred.shape)\n",
    "\n",
    "C = dataset_val['capacity'][0]\n",
    "soh = []\n",
    "for i in range(len(dataset_val)):\n",
    "  soh.append(dataset_val['capacity'][i] / C)\n",
    "new_soh = dataset_val.loc[(dataset_val['cycle'] >= 1), ['cycle']]\n",
    "new_soh['SoH'] =  soh\n",
    "new_soh['NewSoH'] = soh_pred\n",
    "new_soh = new_soh.groupby(['cycle']).mean().reset_index()\n",
    "print(new_soh.head(10))\n",
    "rms = np.sqrt(mean_squared_error(new_soh['SoH'], new_soh['NewSoH']))\n",
    "print('Root Mean Square Error: ', rms)"
   ]
  },
  {
   "cell_type": "code",
   "execution_count": null,
   "id": "4d3af8c1-e987-41c7-b6dd-1f6fa0811a00",
   "metadata": {},
   "outputs": [],
   "source": [
    "plot_df = new_soh.loc[(new_soh['cycle']>=1),['cycle','SoH', 'NewSoH']]\n",
    "sns.set_style(\"white\")\n",
    "plt.figure(figsize=(16, 10))\n",
    "plt.plot(plot_df['cycle'], plot_df['SoH'], label='SoH')\n",
    "plt.plot(plot_df['cycle'], plot_df['NewSoH'], label='Predicted SoH')\n",
    "#Draw threshold\n",
    "#plt.plot([0.,len(capacity)], [0.70, 0.70], label='Threshold')\n",
    "plt.ylabel('SOH')\n",
    "# make x-axis ticks legible\n",
    "adf = plt.gca().get_xaxis().get_major_formatter()\n",
    "plt.xlabel('cycle')\n",
    "plt.legend()\n",
    "plt.title('Discharge B0006')"
   ]
  },
  {
   "cell_type": "code",
   "execution_count": null,
   "id": "8b9790ac-8d66-4216-9368-92a464abb7eb",
   "metadata": {},
   "outputs": [],
   "source": [
    "dataset_val, capacity_val = load_data('B0005')\n",
    "attrib=['cycle', 'datetime', 'capacity']\n",
    "dis_ele = capacity_val[attrib]\n",
    "rows=['cycle','capacity']\n",
    "dataset=dis_ele[rows]\n",
    "data_train=dataset[(dataset['cycle']<50)]\n",
    "data_set_train=data_train.iloc[:,1:2].values\n",
    "data_test=dataset[(dataset['cycle']>=50)]\n",
    "data_set_test=data_test.iloc[:,1:2].values\n",
    "\n",
    "sc=MinMaxScaler(feature_range=(0,1))\n",
    "data_set_train=sc.fit_transform(data_set_train)\n",
    "data_set_test=sc.transform(data_set_test)\n",
    "\n",
    "X_train=[]\n",
    "y_train=[]\n",
    "#take the last 10t to predict 10t+1\n",
    "for i in range(10,49):\n",
    "    X_train.append(data_set_train[i-10:i,0])\n",
    "    y_train.append(data_set_train[i,0])\n",
    "X_train,y_train=np.array(X_train),np.array(y_train)\n",
    " \n",
    "X_train=np.reshape(X_train,(X_train.shape[0],X_train.shape[1],1))"
   ]
  },
  {
   "cell_type": "code",
   "execution_count": null,
   "id": "24a1e7cf-3574-4398-840a-be41fb94ba0e",
   "metadata": {},
   "outputs": [],
   "source": [
    "regress = Sequential()\n",
    "regress.add(LSTM(units=200, return_sequences=True, input_shape=(X_train.shape[1],1)))\n",
    "regress.add(Dropout(0.3))\n",
    "regress.add(LSTM(units=200, return_sequences=True))\n",
    "regress.add(Dropout(0.3))\n",
    "regress.add(LSTM(units=200, return_sequences=True))\n",
    "regress.add(Dropout(0.3))\n",
    "regress.add(LSTM(units=200))\n",
    "regress.add(Dropout(0.3))\n",
    "regress.add(Dense(units=1))\n",
    "regress.compile(optimizer='adam',loss='mean_squared_error')\n",
    "regress.summary()"
   ]
  },
  {
   "cell_type": "code",
   "execution_count": null,
   "id": "7b89b3e2-7fe2-4559-858c-a8c00bc47146",
   "metadata": {},
   "outputs": [],
   "source": [
    "regress.fit(X_train,y_train,epochs=200,batch_size=25)"
   ]
  },
  {
   "cell_type": "code",
   "execution_count": null,
   "id": "f4a04046-8905-4c00-b22a-8b3a09aaf058",
   "metadata": {},
   "outputs": [],
   "source": [
    "print(len(data_test))\n",
    "data_total=pd.concat((data_train['capacity'], data_test['capacity']),axis=0)\n",
    "inputs=data_total[len(data_total)-len(data_test)-10:].values\n",
    "inputs=inputs.reshape(-1,1)\n",
    "inputs=sc.transform(inputs)"
   ]
  },
  {
   "cell_type": "code",
   "execution_count": null,
   "id": "a0cf641c-3009-4d43-b4ca-c7dcbd08d73f",
   "metadata": {},
   "outputs": [],
   "source": [
    "X_test=[]\n",
    "for i in range(10,129):\n",
    "    X_test.append(inputs[i-10:i,0])\n",
    "X_test=np.array(X_test)\n",
    "X_test=np.reshape(X_test,(X_test.shape[0],X_test.shape[1],1))\n",
    "pred=regress.predict(X_test)\n",
    "print(pred.shape)\n",
    "pred=sc.inverse_transform(pred)\n",
    "pred=pred[:,0]\n",
    "tests=data_test.iloc[:,1:2]\n",
    "rmse = np.sqrt(mean_squared_error(tests, pred))\n",
    "print('Test RMSE: %.3f' % rmse)\n",
    "metrics.r2_score(tests,pred)"
   ]
  },
  {
   "cell_type": "code",
   "execution_count": null,
   "id": "50f670eb-88a9-421a-9f12-e46d7248a94e",
   "metadata": {},
   "outputs": [],
   "source": [
    "ln = len(data_train)\n",
    "data_test['pre']=pred\n",
    "plot_df = dataset.loc[(dataset['cycle']>=1),['cycle','capacity']]\n",
    "plot_per = data_test.loc[(data_test['cycle']>=ln),['cycle','pre']]\n",
    "plt.figure(figsize=(16, 10))\n",
    "plt.plot(plot_df['cycle'], plot_df['capacity'], label=\"Actual data\", color='blue')\n",
    "plt.plot(plot_per['cycle'],plot_per['pre'],label=\"Prediction data\", color='red')\n",
    "#Draw threshold\n",
    "plt.plot([0.,168], [1.38, 1.38],dashes=[6, 2], label=\"treshold\")\n",
    "plt.ylabel('Capacity')\n",
    "# make x-axis ticks legible\n",
    "adf = plt.gca().get_xaxis().get_major_formatter()\n",
    "plt.xlabel('cycle')\n",
    "plt.legend()\n",
    "plt.title('Discharge B0005 (prediction) start in cycle 50 -RULe=-8, window-size=10')"
   ]
  },
  {
   "cell_type": "code",
   "execution_count": null,
   "id": "dde32398-13b4-4824-9156-fee26fd3a3a2",
   "metadata": {},
   "outputs": [],
   "source": [
    "pred=0\n",
    "Afil=0\n",
    "Pfil=0\n",
    "a=data_test['capacity'].values\n",
    "b=data_test['pre'].values\n",
    "j=0\n",
    "k=0\n",
    "for i in range(len(a)):\n",
    "    actual=a[i]\n",
    "    \n",
    "    if actual<=1.38:\n",
    "        j=i\n",
    "        Afil=j\n",
    "        break\n",
    "for i in range(len(a)):\n",
    "    pred=b[i]\n",
    "    if pred< 1.38:\n",
    "        k=i\n",
    "        Pfil=k\n",
    "        break\n",
    "print(\"The Actual fail at cycle number: \"+ str(Afil+ln))\n",
    "print(\"The prediction fail at cycle number: \"+ str(Pfil+ln))\n",
    "RULerror=Pfil-Afil\n",
    "print(\"The error of RUL= \"+ str(RULerror)+ \" Cycle(s)\")"
   ]
  },
  {
   "cell_type": "code",
   "execution_count": null,
   "id": "527b316c-b8ed-4fb0-8d19-94c1cbccb62c",
   "metadata": {},
   "outputs": [],
   "source": []
  }
 ],
 "metadata": {
  "kernelspec": {
   "display_name": "Python 3 (ipykernel)",
   "language": "python",
   "name": "python3"
  },
  "language_info": {
   "codemirror_mode": {
    "name": "ipython",
    "version": 3
   },
   "file_extension": ".py",
   "mimetype": "text/x-python",
   "name": "python",
   "nbconvert_exporter": "python",
   "pygments_lexer": "ipython3",
   "version": "3.8.16"
  }
 },
 "nbformat": 4,
 "nbformat_minor": 5
}
